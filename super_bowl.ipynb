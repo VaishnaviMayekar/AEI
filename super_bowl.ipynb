{
 "cells": [
  {
   "cell_type": "markdown",
   "metadata": {
    "dc": {
     "key": "3"
    },
    "deletable": false,
    "editable": false,
    "run_control": {
     "frozen": true
    },
    "tags": [
     "context"
    ]
   },
   "source": [
    "## 1. TV, halftime shows, and the Big Game\n",
    "<p>Whether or not you like football, the Super Bowl is a spectacle. There's a little something for everyone at your Super Bowl party. Drama in the form of blowouts, comebacks, and controversy for the sports fan. There are the ridiculously expensive ads, some hilarious, others gut-wrenching, thought-provoking, and weird. The half-time shows with the biggest musicians in the world, sometimes <a href=\"https://youtu.be/ZD1QrIe--_Y?t=14\">riding giant mechanical tigers</a> or <a href=\"https://youtu.be/mjrdywp5nyE?t=62\">leaping from the roof of the stadium</a>. It's a show, baby. And in this notebook, we're going to find out how some of the elements of this show interact with each other. After exploring and cleaning our data a little, we're going to answer questions like:</p>\n",
    "<ul>\n",
    "<li>What are the most extreme game outcomes?</li>\n",
    "<li>How does the game affect television viewership?</li>\n",
    "<li>How have viewership, TV ratings, and ad cost evolved over time?</li>\n",
    "<li>Who are the most prolific musicians in terms of halftime show performances?</li>\n",
    "</ul>\n",
    "<p><img src=\"https://assets.datacamp.com/production/project_684/img/left_shark.jpg\" alt=\"Left Shark Steals The Show\">\n",
    "<em><a href=\"https://www.flickr.com/photos/huntleypaton/16464994135/in/photostream/\">Left Shark Steals The Show</a>. Katy Perry performing at halftime of Super Bowl XLIX. Photo by Huntley Paton. Attribution-ShareAlike 2.0 Generic (CC BY-SA 2.0).</em></p>\n",
    "<p>The dataset we'll use was <a href=\"https://en.wikipedia.org/wiki/Web_scraping\">scraped</a> and polished from Wikipedia. It is made up of three CSV files, one with <a href=\"https://en.wikipedia.org/wiki/List_of_Super_Bowl_champions\">game data</a>, one with <a href=\"https://en.wikipedia.org/wiki/Super_Bowl_television_ratings\">TV data</a>, and one with <a href=\"https://en.wikipedia.org/wiki/List_of_Super_Bowl_halftime_shows\">halftime musician data</a> for all 52 Super Bowls through 2018. Let's take a look, using <code>display()</code> instead of <code>print()</code> since its output is much prettier in Jupyter Notebooks.</p>"
   ]
  },
  {
   "cell_type": "code",
   "execution_count": 1,
   "metadata": {
    "dc": {
     "key": "3"
    },
    "tags": [
     "sample_code"
    ]
   },
   "outputs": [],
   "source": [
    "# Import pandas\n",
    "import pandas as pd\n",
    "import numpy as numpy"
   ]
  },
  {
   "cell_type": "code",
   "execution_count": 2,
   "metadata": {
    "dc": {
     "key": "3"
    },
    "tags": [
     "sample_code"
    ]
   },
   "outputs": [],
   "source": [
    "# Load the CSV data into DataFrames\n",
    "super_bowls = pd.read_csv(r\"C:\\Users\\Vaishnavi\\Desktop\\SDBI\\Semester-I\\Python Programming\\Case Studies\\super_bowls.csv\")\n",
    "tv = pd.read_csv(r\"C:\\Users\\Vaishnavi\\Desktop\\SDBI\\Semester-I\\Python Programming\\Case Studies\\tv.csv\")\n",
    "musicians = pd.read_csv(r\"C:\\Users\\Vaishnavi\\Desktop\\SDBI\\Semester-I\\Python Programming\\Case Studies\\halftime_musicians.csv\")"
   ]
  },
  {
   "cell_type": "code",
   "execution_count": 3,
   "metadata": {
    "dc": {
     "key": "3"
    },
    "tags": [
     "sample_code"
    ]
   },
   "outputs": [
    {
     "data": {
      "text/html": [
       "<div>\n",
       "<style scoped>\n",
       "    .dataframe tbody tr th:only-of-type {\n",
       "        vertical-align: middle;\n",
       "    }\n",
       "\n",
       "    .dataframe tbody tr th {\n",
       "        vertical-align: top;\n",
       "    }\n",
       "\n",
       "    .dataframe thead th {\n",
       "        text-align: right;\n",
       "    }\n",
       "</style>\n",
       "<table border=\"1\" class=\"dataframe\">\n",
       "  <thead>\n",
       "    <tr style=\"text-align: right;\">\n",
       "      <th></th>\n",
       "      <th>date</th>\n",
       "      <th>super_bowl</th>\n",
       "      <th>venue</th>\n",
       "      <th>city</th>\n",
       "      <th>state</th>\n",
       "      <th>attendance</th>\n",
       "      <th>team_winner</th>\n",
       "      <th>winning_pts</th>\n",
       "      <th>qb_winner_1</th>\n",
       "      <th>qb_winner_2</th>\n",
       "      <th>coach_winner</th>\n",
       "      <th>team_loser</th>\n",
       "      <th>losing_pts</th>\n",
       "      <th>qb_loser_1</th>\n",
       "      <th>qb_loser_2</th>\n",
       "      <th>coach_loser</th>\n",
       "      <th>combined_pts</th>\n",
       "      <th>difference_pts</th>\n",
       "    </tr>\n",
       "  </thead>\n",
       "  <tbody>\n",
       "    <tr>\n",
       "      <th>0</th>\n",
       "      <td>2018-02-04</td>\n",
       "      <td>52</td>\n",
       "      <td>U.S. Bank Stadium</td>\n",
       "      <td>Minneapolis</td>\n",
       "      <td>Minnesota</td>\n",
       "      <td>67612</td>\n",
       "      <td>Philadelphia Eagles</td>\n",
       "      <td>41</td>\n",
       "      <td>Nick Foles</td>\n",
       "      <td>NaN</td>\n",
       "      <td>Doug Pederson</td>\n",
       "      <td>New England Patriots</td>\n",
       "      <td>33</td>\n",
       "      <td>Tom Brady</td>\n",
       "      <td>NaN</td>\n",
       "      <td>Bill Belichick</td>\n",
       "      <td>74</td>\n",
       "      <td>8</td>\n",
       "    </tr>\n",
       "    <tr>\n",
       "      <th>1</th>\n",
       "      <td>2017-02-05</td>\n",
       "      <td>51</td>\n",
       "      <td>NRG Stadium</td>\n",
       "      <td>Houston</td>\n",
       "      <td>Texas</td>\n",
       "      <td>70807</td>\n",
       "      <td>New England Patriots</td>\n",
       "      <td>34</td>\n",
       "      <td>Tom Brady</td>\n",
       "      <td>NaN</td>\n",
       "      <td>Bill Belichick</td>\n",
       "      <td>Atlanta Falcons</td>\n",
       "      <td>28</td>\n",
       "      <td>Matt Ryan</td>\n",
       "      <td>NaN</td>\n",
       "      <td>Dan Quinn</td>\n",
       "      <td>62</td>\n",
       "      <td>6</td>\n",
       "    </tr>\n",
       "    <tr>\n",
       "      <th>2</th>\n",
       "      <td>2016-02-07</td>\n",
       "      <td>50</td>\n",
       "      <td>Levi's Stadium</td>\n",
       "      <td>Santa Clara</td>\n",
       "      <td>California</td>\n",
       "      <td>71088</td>\n",
       "      <td>Denver Broncos</td>\n",
       "      <td>24</td>\n",
       "      <td>Peyton Manning</td>\n",
       "      <td>NaN</td>\n",
       "      <td>Gary Kubiak</td>\n",
       "      <td>Carolina Panthers</td>\n",
       "      <td>10</td>\n",
       "      <td>Cam Newton</td>\n",
       "      <td>NaN</td>\n",
       "      <td>Ron Rivera</td>\n",
       "      <td>34</td>\n",
       "      <td>14</td>\n",
       "    </tr>\n",
       "    <tr>\n",
       "      <th>3</th>\n",
       "      <td>2015-02-01</td>\n",
       "      <td>49</td>\n",
       "      <td>University of Phoenix Stadium</td>\n",
       "      <td>Glendale</td>\n",
       "      <td>Arizona</td>\n",
       "      <td>70288</td>\n",
       "      <td>New England Patriots</td>\n",
       "      <td>28</td>\n",
       "      <td>Tom Brady</td>\n",
       "      <td>NaN</td>\n",
       "      <td>Bill Belichick</td>\n",
       "      <td>Seattle Seahawks</td>\n",
       "      <td>24</td>\n",
       "      <td>Russell Wilson</td>\n",
       "      <td>NaN</td>\n",
       "      <td>Pete Carroll</td>\n",
       "      <td>52</td>\n",
       "      <td>4</td>\n",
       "    </tr>\n",
       "    <tr>\n",
       "      <th>4</th>\n",
       "      <td>2014-02-02</td>\n",
       "      <td>48</td>\n",
       "      <td>MetLife Stadium</td>\n",
       "      <td>East Rutherford</td>\n",
       "      <td>New Jersey</td>\n",
       "      <td>82529</td>\n",
       "      <td>Seattle Seahawks</td>\n",
       "      <td>43</td>\n",
       "      <td>Russell Wilson</td>\n",
       "      <td>NaN</td>\n",
       "      <td>Pete Carroll</td>\n",
       "      <td>Denver Broncos</td>\n",
       "      <td>8</td>\n",
       "      <td>Peyton Manning</td>\n",
       "      <td>NaN</td>\n",
       "      <td>John Fox</td>\n",
       "      <td>51</td>\n",
       "      <td>35</td>\n",
       "    </tr>\n",
       "  </tbody>\n",
       "</table>\n",
       "</div>"
      ],
      "text/plain": [
       "         date  super_bowl                          venue             city  \\\n",
       "0  2018-02-04          52              U.S. Bank Stadium      Minneapolis   \n",
       "1  2017-02-05          51                    NRG Stadium          Houston   \n",
       "2  2016-02-07          50                 Levi's Stadium      Santa Clara   \n",
       "3  2015-02-01          49  University of Phoenix Stadium         Glendale   \n",
       "4  2014-02-02          48                MetLife Stadium  East Rutherford   \n",
       "\n",
       "        state  attendance           team_winner  winning_pts     qb_winner_1  \\\n",
       "0   Minnesota       67612   Philadelphia Eagles           41      Nick Foles   \n",
       "1       Texas       70807  New England Patriots           34       Tom Brady   \n",
       "2  California       71088        Denver Broncos           24  Peyton Manning   \n",
       "3     Arizona       70288  New England Patriots           28       Tom Brady   \n",
       "4  New Jersey       82529      Seattle Seahawks           43  Russell Wilson   \n",
       "\n",
       "  qb_winner_2    coach_winner            team_loser  losing_pts  \\\n",
       "0         NaN   Doug Pederson  New England Patriots          33   \n",
       "1         NaN  Bill Belichick       Atlanta Falcons          28   \n",
       "2         NaN     Gary Kubiak     Carolina Panthers          10   \n",
       "3         NaN  Bill Belichick      Seattle Seahawks          24   \n",
       "4         NaN    Pete Carroll        Denver Broncos           8   \n",
       "\n",
       "       qb_loser_1 qb_loser_2     coach_loser  combined_pts  difference_pts  \n",
       "0       Tom Brady        NaN  Bill Belichick            74               8  \n",
       "1       Matt Ryan        NaN       Dan Quinn            62               6  \n",
       "2      Cam Newton        NaN      Ron Rivera            34              14  \n",
       "3  Russell Wilson        NaN    Pete Carroll            52               4  \n",
       "4  Peyton Manning        NaN        John Fox            51              35  "
      ]
     },
     "execution_count": 3,
     "metadata": {},
     "output_type": "execute_result"
    }
   ],
   "source": [
    "# Display the first five rows of each DataFrame\n",
    "super_bowls.head(5)"
   ]
  },
  {
   "cell_type": "code",
   "execution_count": 4,
   "metadata": {
    "dc": {
     "key": "3"
    },
    "tags": [
     "sample_code"
    ]
   },
   "outputs": [
    {
     "data": {
      "text/html": [
       "<div>\n",
       "<style scoped>\n",
       "    .dataframe tbody tr th:only-of-type {\n",
       "        vertical-align: middle;\n",
       "    }\n",
       "\n",
       "    .dataframe tbody tr th {\n",
       "        vertical-align: top;\n",
       "    }\n",
       "\n",
       "    .dataframe thead th {\n",
       "        text-align: right;\n",
       "    }\n",
       "</style>\n",
       "<table border=\"1\" class=\"dataframe\">\n",
       "  <thead>\n",
       "    <tr style=\"text-align: right;\">\n",
       "      <th></th>\n",
       "      <th>super_bowl</th>\n",
       "      <th>network</th>\n",
       "      <th>avg_us_viewers</th>\n",
       "      <th>total_us_viewers</th>\n",
       "      <th>rating_household</th>\n",
       "      <th>share_household</th>\n",
       "      <th>rating_18_49</th>\n",
       "      <th>share_18_49</th>\n",
       "      <th>ad_cost</th>\n",
       "    </tr>\n",
       "  </thead>\n",
       "  <tbody>\n",
       "    <tr>\n",
       "      <th>0</th>\n",
       "      <td>52</td>\n",
       "      <td>NBC</td>\n",
       "      <td>103390000</td>\n",
       "      <td>NaN</td>\n",
       "      <td>43.1</td>\n",
       "      <td>68</td>\n",
       "      <td>33.4</td>\n",
       "      <td>78.0</td>\n",
       "      <td>5000000</td>\n",
       "    </tr>\n",
       "    <tr>\n",
       "      <th>1</th>\n",
       "      <td>51</td>\n",
       "      <td>Fox</td>\n",
       "      <td>111319000</td>\n",
       "      <td>172000000.0</td>\n",
       "      <td>45.3</td>\n",
       "      <td>73</td>\n",
       "      <td>37.1</td>\n",
       "      <td>79.0</td>\n",
       "      <td>5000000</td>\n",
       "    </tr>\n",
       "    <tr>\n",
       "      <th>2</th>\n",
       "      <td>50</td>\n",
       "      <td>CBS</td>\n",
       "      <td>111864000</td>\n",
       "      <td>167000000.0</td>\n",
       "      <td>46.6</td>\n",
       "      <td>72</td>\n",
       "      <td>37.7</td>\n",
       "      <td>79.0</td>\n",
       "      <td>5000000</td>\n",
       "    </tr>\n",
       "    <tr>\n",
       "      <th>3</th>\n",
       "      <td>49</td>\n",
       "      <td>NBC</td>\n",
       "      <td>114442000</td>\n",
       "      <td>168000000.0</td>\n",
       "      <td>47.5</td>\n",
       "      <td>71</td>\n",
       "      <td>39.1</td>\n",
       "      <td>79.0</td>\n",
       "      <td>4500000</td>\n",
       "    </tr>\n",
       "    <tr>\n",
       "      <th>4</th>\n",
       "      <td>48</td>\n",
       "      <td>Fox</td>\n",
       "      <td>112191000</td>\n",
       "      <td>167000000.0</td>\n",
       "      <td>46.7</td>\n",
       "      <td>69</td>\n",
       "      <td>39.3</td>\n",
       "      <td>77.0</td>\n",
       "      <td>4000000</td>\n",
       "    </tr>\n",
       "  </tbody>\n",
       "</table>\n",
       "</div>"
      ],
      "text/plain": [
       "   super_bowl network  avg_us_viewers  total_us_viewers  rating_household  \\\n",
       "0          52     NBC       103390000               NaN              43.1   \n",
       "1          51     Fox       111319000       172000000.0              45.3   \n",
       "2          50     CBS       111864000       167000000.0              46.6   \n",
       "3          49     NBC       114442000       168000000.0              47.5   \n",
       "4          48     Fox       112191000       167000000.0              46.7   \n",
       "\n",
       "   share_household  rating_18_49  share_18_49  ad_cost  \n",
       "0               68          33.4         78.0  5000000  \n",
       "1               73          37.1         79.0  5000000  \n",
       "2               72          37.7         79.0  5000000  \n",
       "3               71          39.1         79.0  4500000  \n",
       "4               69          39.3         77.0  4000000  "
      ]
     },
     "execution_count": 4,
     "metadata": {},
     "output_type": "execute_result"
    }
   ],
   "source": [
    "tv.head(5)"
   ]
  },
  {
   "cell_type": "code",
   "execution_count": 5,
   "metadata": {
    "dc": {
     "key": "3"
    },
    "tags": [
     "sample_code"
    ]
   },
   "outputs": [
    {
     "data": {
      "text/html": [
       "<div>\n",
       "<style scoped>\n",
       "    .dataframe tbody tr th:only-of-type {\n",
       "        vertical-align: middle;\n",
       "    }\n",
       "\n",
       "    .dataframe tbody tr th {\n",
       "        vertical-align: top;\n",
       "    }\n",
       "\n",
       "    .dataframe thead th {\n",
       "        text-align: right;\n",
       "    }\n",
       "</style>\n",
       "<table border=\"1\" class=\"dataframe\">\n",
       "  <thead>\n",
       "    <tr style=\"text-align: right;\">\n",
       "      <th></th>\n",
       "      <th>super_bowl</th>\n",
       "      <th>musician</th>\n",
       "      <th>num_songs</th>\n",
       "    </tr>\n",
       "  </thead>\n",
       "  <tbody>\n",
       "    <tr>\n",
       "      <th>0</th>\n",
       "      <td>52</td>\n",
       "      <td>Justin Timberlake</td>\n",
       "      <td>11.0</td>\n",
       "    </tr>\n",
       "    <tr>\n",
       "      <th>1</th>\n",
       "      <td>52</td>\n",
       "      <td>University of Minnesota Marching Band</td>\n",
       "      <td>1.0</td>\n",
       "    </tr>\n",
       "    <tr>\n",
       "      <th>2</th>\n",
       "      <td>51</td>\n",
       "      <td>Lady Gaga</td>\n",
       "      <td>7.0</td>\n",
       "    </tr>\n",
       "    <tr>\n",
       "      <th>3</th>\n",
       "      <td>50</td>\n",
       "      <td>Coldplay</td>\n",
       "      <td>6.0</td>\n",
       "    </tr>\n",
       "    <tr>\n",
       "      <th>4</th>\n",
       "      <td>50</td>\n",
       "      <td>Beyoncé</td>\n",
       "      <td>3.0</td>\n",
       "    </tr>\n",
       "  </tbody>\n",
       "</table>\n",
       "</div>"
      ],
      "text/plain": [
       "   super_bowl                               musician  num_songs\n",
       "0          52                      Justin Timberlake       11.0\n",
       "1          52  University of Minnesota Marching Band        1.0\n",
       "2          51                              Lady Gaga        7.0\n",
       "3          50                               Coldplay        6.0\n",
       "4          50                                Beyoncé        3.0"
      ]
     },
     "execution_count": 5,
     "metadata": {},
     "output_type": "execute_result"
    }
   ],
   "source": [
    "musicians.head(5)"
   ]
  },
  {
   "cell_type": "markdown",
   "metadata": {
    "dc": {
     "key": "10"
    },
    "deletable": false,
    "editable": false,
    "run_control": {
     "frozen": true
    },
    "tags": [
     "context"
    ]
   },
   "source": [
    "## 2. Taking note of dataset issues\n",
    "<p>For the Super Bowl game data, we can see the dataset appears whole except for missing values in the backup quarterback columns (<code>qb_winner_2</code> and <code>qb_loser_2</code>), which make sense given most starting QBs in the Super Bowl (<code>qb_winner_1</code> and <code>qb_loser_1</code>) play the entire game.</p>\n",
    "<p>From the visual inspection of TV and halftime musicians data, there is only one missing value displayed, but I've got a hunch there are more. The Super Bowl goes all the way back to 1967, and the more granular columns (e.g. the number of songs for halftime musicians) probably weren't tracked reliably over time. Wikipedia is great but not perfect.</p>\n",
    "<p>An inspection of the <code>.info()</code> output for <code>tv</code> and <code>halftime_musicians</code> shows us that there are multiple columns with null values.</p>"
   ]
  },
  {
   "cell_type": "code",
   "execution_count": 6,
   "metadata": {
    "dc": {
     "key": "10"
    },
    "tags": [
     "sample_code"
    ]
   },
   "outputs": [
    {
     "name": "stdout",
     "output_type": "stream",
     "text": [
      "<class 'pandas.core.frame.DataFrame'>\n",
      "RangeIndex: 53 entries, 0 to 52\n",
      "Data columns (total 9 columns):\n",
      " #   Column            Non-Null Count  Dtype  \n",
      "---  ------            --------------  -----  \n",
      " 0   super_bowl        53 non-null     int64  \n",
      " 1   network           53 non-null     object \n",
      " 2   avg_us_viewers    53 non-null     int64  \n",
      " 3   total_us_viewers  15 non-null     float64\n",
      " 4   rating_household  53 non-null     float64\n",
      " 5   share_household   53 non-null     int64  \n",
      " 6   rating_18_49      15 non-null     float64\n",
      " 7   share_18_49       6 non-null      float64\n",
      " 8   ad_cost           53 non-null     int64  \n",
      "dtypes: float64(4), int64(4), object(1)\n",
      "memory usage: 3.9+ KB\n"
     ]
    }
   ],
   "source": [
    "# Summary of the TV data to inspect\n",
    "tv.info()"
   ]
  },
  {
   "cell_type": "code",
   "execution_count": 7,
   "metadata": {
    "dc": {
     "key": "10"
    },
    "tags": [
     "sample_code"
    ]
   },
   "outputs": [
    {
     "name": "stdout",
     "output_type": "stream",
     "text": [
      "<class 'pandas.core.frame.DataFrame'>\n",
      "RangeIndex: 134 entries, 0 to 133\n",
      "Data columns (total 3 columns):\n",
      " #   Column      Non-Null Count  Dtype  \n",
      "---  ------      --------------  -----  \n",
      " 0   super_bowl  134 non-null    int64  \n",
      " 1   musician    134 non-null    object \n",
      " 2   num_songs   88 non-null     float64\n",
      "dtypes: float64(1), int64(1), object(1)\n",
      "memory usage: 3.3+ KB\n"
     ]
    }
   ],
   "source": [
    "# Summary of the halftime musician data to inspect\n",
    "musicians.info()"
   ]
  },
  {
   "cell_type": "markdown",
   "metadata": {
    "dc": {
     "key": "17"
    },
    "deletable": false,
    "editable": false,
    "run_control": {
     "frozen": true
    },
    "tags": [
     "context"
    ]
   },
   "source": [
    "## 3. Combined points distribution\n",
    "<p>For the TV data, the following columns have missing values and a lot of them:</p>\n",
    "<ul>\n",
    "<li><code>total_us_viewers</code> (amount of U.S. viewers who watched at least some part of the broadcast)</li>\n",
    "<li><code>rating_18_49</code> (average % of U.S. adults 18-49 who live in a household with a TV that were watching for the entire broadcast)</li>\n",
    "<li><code>share_18_49</code> (average % of U.S. adults 18-49 who live in a household with a TV <em>in use</em> that were watching for the entire broadcast)</li>\n",
    "</ul>\n",
    "<p>For the halftime musician data, there are missing numbers of songs performed (<code>num_songs</code>) for about a third of the performances.</p>\n",
    "<p>There are a lot of potential reasons for these missing values. Was the data ever tracked? Was it lost in history? Is the research effort to make this data whole worth it? Maybe. Watching every Super Bowl halftime show to get song counts would be pretty fun. But we don't have the time to do that kind of stuff now! Let's take note of where the dataset isn't perfect and start uncovering some insights.</p>\n",
    "<p>Let's start by looking at combined points for each Super Bowl by visualizing the distribution. Let's also pinpoint the Super Bowls with the highest and lowest scores.</p>"
   ]
  },
  {
   "cell_type": "code",
   "execution_count": 8,
   "metadata": {
    "dc": {
     "key": "17"
    },
    "tags": [
     "sample_code"
    ]
   },
   "outputs": [],
   "source": [
    "# Import matplotlib and set plotting style\n",
    "from matplotlib import pyplot as plt\n",
    "%matplotlib inline\n",
    "plt.style.use('seaborn')"
   ]
  },
  {
   "cell_type": "code",
   "execution_count": 9,
   "metadata": {
    "dc": {
     "key": "17"
    },
    "tags": [
     "sample_code"
    ]
   },
   "outputs": [
    {
     "data": {
      "image/png": "[encoded data removed]",
      "text/plain": [
       "<Figure size 576x396 with 1 Axes>"
      ]
     },
     "metadata": {},
     "output_type": "display_data"
    }
   ],
   "source": [
    "# Plot a histogram of combined points\n",
    "# ... YOUR CODE FOR TASK 3 ...\n",
    "plt.xlabel('Combined Points')\n",
    "plt.ylabel('Number of Super Bowls')\n",
    "plt.hist(super_bowls['combined_pts'],bins = 10)\n",
    "plt.show()"
   ]
  },
  {
   "cell_type": "code",
   "execution_count": 10,
   "metadata": {
    "dc": {
     "key": "17"
    },
    "tags": [
     "sample_code"
    ]
   },
   "outputs": [
    {
     "data": {
      "image/png": "[encoded data removed]",
      "text/plain": [
       "<Figure size 576x396 with 1 Axes>"
      ]
     },
     "metadata": {},
     "output_type": "display_data"
    }
   ],
   "source": [
    "# Using the Histogram identify the appropriate cut-off points for Highest & Lowest\n",
    "highest_pt = plt.hist(max(super_bowls['combined_pts']))"
   ]
  },
  {
   "cell_type": "code",
   "execution_count": 11,
   "metadata": {
    "dc": {
     "key": "17"
    },
    "tags": [
     "sample_code"
    ]
   },
   "outputs": [
    {
     "data": {
      "image/png": "[encoded data removed]",
      "text/plain": [
       "<Figure size 576x396 with 1 Axes>"
      ]
     },
     "metadata": {},
     "output_type": "display_data"
    }
   ],
   "source": [
    "lowest_pt = plt.hist(min(super_bowls['combined_pts']))"
   ]
  },
  {
   "cell_type": "code",
   "execution_count": 12,
   "metadata": {
    "dc": {
     "key": "17"
    },
    "tags": [
     "sample_code"
    ]
   },
   "outputs": [
    {
     "data": {
      "text/html": [
       "<div>\n",
       "<style scoped>\n",
       "    .dataframe tbody tr th:only-of-type {\n",
       "        vertical-align: middle;\n",
       "    }\n",
       "\n",
       "    .dataframe tbody tr th {\n",
       "        vertical-align: top;\n",
       "    }\n",
       "\n",
       "    .dataframe thead th {\n",
       "        text-align: right;\n",
       "    }\n",
       "</style>\n",
       "<table border=\"1\" class=\"dataframe\">\n",
       "  <thead>\n",
       "    <tr style=\"text-align: right;\">\n",
       "      <th></th>\n",
       "      <th>date</th>\n",
       "      <th>super_bowl</th>\n",
       "      <th>venue</th>\n",
       "      <th>city</th>\n",
       "      <th>state</th>\n",
       "      <th>attendance</th>\n",
       "      <th>team_winner</th>\n",
       "      <th>winning_pts</th>\n",
       "      <th>qb_winner_1</th>\n",
       "      <th>qb_winner_2</th>\n",
       "      <th>coach_winner</th>\n",
       "      <th>team_loser</th>\n",
       "      <th>losing_pts</th>\n",
       "      <th>qb_loser_1</th>\n",
       "      <th>qb_loser_2</th>\n",
       "      <th>coach_loser</th>\n",
       "      <th>combined_pts</th>\n",
       "      <th>difference_pts</th>\n",
       "    </tr>\n",
       "  </thead>\n",
       "  <tbody>\n",
       "    <tr>\n",
       "      <th>45</th>\n",
       "      <td>1973-01-14</td>\n",
       "      <td>7</td>\n",
       "      <td>Memorial Coliseum</td>\n",
       "      <td>Los Angeles</td>\n",
       "      <td>California</td>\n",
       "      <td>90182</td>\n",
       "      <td>Miami Dolphins</td>\n",
       "      <td>14</td>\n",
       "      <td>Bob Griese</td>\n",
       "      <td>NaN</td>\n",
       "      <td>Don Shula</td>\n",
       "      <td>Washington Redskins</td>\n",
       "      <td>7</td>\n",
       "      <td>Bill Kilmer</td>\n",
       "      <td>NaN</td>\n",
       "      <td>George Allen</td>\n",
       "      <td>21</td>\n",
       "      <td>7</td>\n",
       "    </tr>\n",
       "  </tbody>\n",
       "</table>\n",
       "</div>"
      ],
      "text/plain": [
       "          date  super_bowl              venue         city       state  \\\n",
       "45  1973-01-14           7  Memorial Coliseum  Los Angeles  California   \n",
       "\n",
       "    attendance     team_winner  winning_pts qb_winner_1 qb_winner_2  \\\n",
       "45       90182  Miami Dolphins           14  Bob Griese         NaN   \n",
       "\n",
       "   coach_winner           team_loser  losing_pts   qb_loser_1 qb_loser_2  \\\n",
       "45    Don Shula  Washington Redskins           7  Bill Kilmer        NaN   \n",
       "\n",
       "     coach_loser  combined_pts  difference_pts  \n",
       "45  George Allen            21               7  "
      ]
     },
     "metadata": {},
     "output_type": "display_data"
    },
    {
     "data": {
      "text/html": [
       "<div>\n",
       "<style scoped>\n",
       "    .dataframe tbody tr th:only-of-type {\n",
       "        vertical-align: middle;\n",
       "    }\n",
       "\n",
       "    .dataframe tbody tr th {\n",
       "        vertical-align: top;\n",
       "    }\n",
       "\n",
       "    .dataframe thead th {\n",
       "        text-align: right;\n",
       "    }\n",
       "</style>\n",
       "<table border=\"1\" class=\"dataframe\">\n",
       "  <thead>\n",
       "    <tr style=\"text-align: right;\">\n",
       "      <th></th>\n",
       "      <th>date</th>\n",
       "      <th>super_bowl</th>\n",
       "      <th>venue</th>\n",
       "      <th>city</th>\n",
       "      <th>state</th>\n",
       "      <th>attendance</th>\n",
       "      <th>team_winner</th>\n",
       "      <th>winning_pts</th>\n",
       "      <th>qb_winner_1</th>\n",
       "      <th>qb_winner_2</th>\n",
       "      <th>coach_winner</th>\n",
       "      <th>team_loser</th>\n",
       "      <th>losing_pts</th>\n",
       "      <th>qb_loser_1</th>\n",
       "      <th>qb_loser_2</th>\n",
       "      <th>coach_loser</th>\n",
       "      <th>combined_pts</th>\n",
       "      <th>difference_pts</th>\n",
       "    </tr>\n",
       "  </thead>\n",
       "  <tbody>\n",
       "    <tr>\n",
       "      <th>23</th>\n",
       "      <td>1995-01-29</td>\n",
       "      <td>29</td>\n",
       "      <td>Joe Robbie Stadium</td>\n",
       "      <td>Miami Gardens</td>\n",
       "      <td>Florida</td>\n",
       "      <td>74107</td>\n",
       "      <td>San Francisco 49ers</td>\n",
       "      <td>49</td>\n",
       "      <td>Steve Young</td>\n",
       "      <td>NaN</td>\n",
       "      <td>George Seifert</td>\n",
       "      <td>San Diego Chargers</td>\n",
       "      <td>26</td>\n",
       "      <td>Stan Humphreys</td>\n",
       "      <td>NaN</td>\n",
       "      <td>Bobby Ross</td>\n",
       "      <td>75</td>\n",
       "      <td>23</td>\n",
       "    </tr>\n",
       "  </tbody>\n",
       "</table>\n",
       "</div>"
      ],
      "text/plain": [
       "          date  super_bowl               venue           city    state  \\\n",
       "23  1995-01-29          29  Joe Robbie Stadium  Miami Gardens  Florida   \n",
       "\n",
       "    attendance          team_winner  winning_pts  qb_winner_1 qb_winner_2  \\\n",
       "23       74107  San Francisco 49ers           49  Steve Young         NaN   \n",
       "\n",
       "      coach_winner          team_loser  losing_pts      qb_loser_1 qb_loser_2  \\\n",
       "23  George Seifert  San Diego Chargers          26  Stan Humphreys        NaN   \n",
       "\n",
       "   coach_loser  combined_pts  difference_pts  \n",
       "23  Bobby Ross            75              23  "
      ]
     },
     "metadata": {},
     "output_type": "display_data"
    }
   ],
   "source": [
    "# Display the Super Bowls with the highest and lowest combined scores\n",
    "display(super_bowls[super_bowls['combined_pts'] == 21])\n",
    "display(super_bowls[super_bowls['combined_pts'] == 75])"
   ]
  },
  {
   "cell_type": "markdown",
   "metadata": {
    "dc": {
     "key": "24"
    },
    "deletable": false,
    "editable": false,
    "run_control": {
     "frozen": true
    },
    "tags": [
     "context"
    ]
   },
   "source": [
    "## 4. Point difference distribution\n",
    "<p>Most combined scores are around 40-50 points, with the extremes being roughly equal distance away in opposite directions. Going up to the highest combined scores at 74 and 75, we find two games featuring dominant quarterback performances. One even happened recently in 2018's Super Bowl LII where Tom Brady's Patriots lost to Nick Foles' underdog Eagles 41-33 for a combined score of 74.</p>\n",
    "<p>Going down to the lowest combined scores, we have Super Bowl III and VII, which featured tough defenses that dominated. We also have Super Bowl IX in New Orleans in 1975, whose 16-6 score can be attributed to inclement weather. The field was slick from overnight rain, and it was cold at 46 °F (8 °C), making it hard for the Steelers and Vikings to do much offensively. This was the second-coldest Super Bowl ever and the last to be played in inclement weather for over 30 years. The NFL realized people like points, I guess.</p>\n",
    "<p><em>UPDATE: In Super Bowl LIII in 2019, the Patriots and Rams broke the record for the lowest-scoring Super Bowl with a combined score of 16 points (13-3 for the Patriots).</em></p>\n",
    "<p>Let's take a look at point <em>difference</em> now.</p>"
   ]
  },
  {
   "cell_type": "code",
   "execution_count": 13,
   "metadata": {
    "dc": {
     "key": "24"
    },
    "scrolled": true,
    "tags": [
     "sample_code"
    ]
   },
   "outputs": [
    {
     "data": {
      "image/png": "[encoded data removed]",
      "text/plain": [
       "<Figure size 576x396 with 1 Axes>"
      ]
     },
     "metadata": {},
     "output_type": "display_data"
    }
   ],
   "source": [
    "# Plot a histogram of point differences\n",
    "plt.hist(super_bowls.difference_pts)\n",
    "plt.xlabel('Point Difference')\n",
    "plt.ylabel('Number of Super Bowls')\n",
    "plt.show()"
   ]
  },
  {
   "cell_type": "code",
   "execution_count": 14,
   "metadata": {
    "dc": {
     "key": "24"
    },
    "tags": [
     "sample_code"
    ]
   },
   "outputs": [
    {
     "data": {
      "image/png": "[encoded data removed]",
      "text/plain": [
       "<Figure size 576x396 with 1 Axes>"
      ]
     },
     "metadata": {},
     "output_type": "display_data"
    }
   ],
   "source": [
    "# Using histogram identify appropriate Closests & Biggest cut-offs\n",
    "highest_diff = plt.hist(max(super_bowls['difference_pts']))"
   ]
  },
  {
   "cell_type": "code",
   "execution_count": 15,
   "metadata": {
    "dc": {
     "key": "24"
    },
    "tags": [
     "sample_code"
    ]
   },
   "outputs": [
    {
     "data": {
      "image/png": "[encoded data removed]",
      "text/plain": [
       "<Figure size 576x396 with 1 Axes>"
      ]
     },
     "metadata": {},
     "output_type": "display_data"
    }
   ],
   "source": [
    "lowest_diff = plt.hist(min(super_bowls['difference_pts']))"
   ]
  },
  {
   "cell_type": "code",
   "execution_count": 16,
   "metadata": {
    "dc": {
     "key": "24"
    },
    "tags": [
     "sample_code"
    ]
   },
   "outputs": [
    {
     "data": {
      "text/html": [
       "<div>\n",
       "<style scoped>\n",
       "    .dataframe tbody tr th:only-of-type {\n",
       "        vertical-align: middle;\n",
       "    }\n",
       "\n",
       "    .dataframe tbody tr th {\n",
       "        vertical-align: top;\n",
       "    }\n",
       "\n",
       "    .dataframe thead th {\n",
       "        text-align: right;\n",
       "    }\n",
       "</style>\n",
       "<table border=\"1\" class=\"dataframe\">\n",
       "  <thead>\n",
       "    <tr style=\"text-align: right;\">\n",
       "      <th></th>\n",
       "      <th>date</th>\n",
       "      <th>super_bowl</th>\n",
       "      <th>venue</th>\n",
       "      <th>city</th>\n",
       "      <th>state</th>\n",
       "      <th>attendance</th>\n",
       "      <th>team_winner</th>\n",
       "      <th>winning_pts</th>\n",
       "      <th>qb_winner_1</th>\n",
       "      <th>qb_winner_2</th>\n",
       "      <th>coach_winner</th>\n",
       "      <th>team_loser</th>\n",
       "      <th>losing_pts</th>\n",
       "      <th>qb_loser_1</th>\n",
       "      <th>qb_loser_2</th>\n",
       "      <th>coach_loser</th>\n",
       "      <th>combined_pts</th>\n",
       "      <th>difference_pts</th>\n",
       "    </tr>\n",
       "  </thead>\n",
       "  <tbody>\n",
       "    <tr>\n",
       "      <th>27</th>\n",
       "      <td>1991-01-27</td>\n",
       "      <td>25</td>\n",
       "      <td>Tampa Stadium</td>\n",
       "      <td>Tampa</td>\n",
       "      <td>Florida</td>\n",
       "      <td>73813</td>\n",
       "      <td>New York Giants</td>\n",
       "      <td>20</td>\n",
       "      <td>Jeff Hostetler</td>\n",
       "      <td>NaN</td>\n",
       "      <td>Bill Parcells</td>\n",
       "      <td>Buffalo Bills</td>\n",
       "      <td>19</td>\n",
       "      <td>Jim Kelly</td>\n",
       "      <td>NaN</td>\n",
       "      <td>Marv Levy</td>\n",
       "      <td>39</td>\n",
       "      <td>1</td>\n",
       "    </tr>\n",
       "  </tbody>\n",
       "</table>\n",
       "</div>"
      ],
      "text/plain": [
       "          date  super_bowl          venue   city    state  attendance  \\\n",
       "27  1991-01-27          25  Tampa Stadium  Tampa  Florida       73813   \n",
       "\n",
       "        team_winner  winning_pts     qb_winner_1 qb_winner_2   coach_winner  \\\n",
       "27  New York Giants           20  Jeff Hostetler         NaN  Bill Parcells   \n",
       "\n",
       "       team_loser  losing_pts qb_loser_1 qb_loser_2 coach_loser  combined_pts  \\\n",
       "27  Buffalo Bills          19  Jim Kelly        NaN   Marv Levy            39   \n",
       "\n",
       "    difference_pts  \n",
       "27               1  "
      ]
     },
     "metadata": {},
     "output_type": "display_data"
    },
    {
     "data": {
      "text/html": [
       "<div>\n",
       "<style scoped>\n",
       "    .dataframe tbody tr th:only-of-type {\n",
       "        vertical-align: middle;\n",
       "    }\n",
       "\n",
       "    .dataframe tbody tr th {\n",
       "        vertical-align: top;\n",
       "    }\n",
       "\n",
       "    .dataframe thead th {\n",
       "        text-align: right;\n",
       "    }\n",
       "</style>\n",
       "<table border=\"1\" class=\"dataframe\">\n",
       "  <thead>\n",
       "    <tr style=\"text-align: right;\">\n",
       "      <th></th>\n",
       "      <th>date</th>\n",
       "      <th>super_bowl</th>\n",
       "      <th>venue</th>\n",
       "      <th>city</th>\n",
       "      <th>state</th>\n",
       "      <th>attendance</th>\n",
       "      <th>team_winner</th>\n",
       "      <th>winning_pts</th>\n",
       "      <th>qb_winner_1</th>\n",
       "      <th>qb_winner_2</th>\n",
       "      <th>coach_winner</th>\n",
       "      <th>team_loser</th>\n",
       "      <th>losing_pts</th>\n",
       "      <th>qb_loser_1</th>\n",
       "      <th>qb_loser_2</th>\n",
       "      <th>coach_loser</th>\n",
       "      <th>combined_pts</th>\n",
       "      <th>difference_pts</th>\n",
       "    </tr>\n",
       "  </thead>\n",
       "  <tbody>\n",
       "    <tr>\n",
       "      <th>28</th>\n",
       "      <td>1990-01-28</td>\n",
       "      <td>24</td>\n",
       "      <td>Louisiana Superdome</td>\n",
       "      <td>New Orleans</td>\n",
       "      <td>Louisiana</td>\n",
       "      <td>72919</td>\n",
       "      <td>San Francisco 49ers</td>\n",
       "      <td>55</td>\n",
       "      <td>Joe Montana</td>\n",
       "      <td>NaN</td>\n",
       "      <td>George Seifert</td>\n",
       "      <td>Denver Broncos</td>\n",
       "      <td>10</td>\n",
       "      <td>John Elway</td>\n",
       "      <td>NaN</td>\n",
       "      <td>Dan Reeves</td>\n",
       "      <td>65</td>\n",
       "      <td>45</td>\n",
       "    </tr>\n",
       "  </tbody>\n",
       "</table>\n",
       "</div>"
      ],
      "text/plain": [
       "          date  super_bowl                venue         city      state  \\\n",
       "28  1990-01-28          24  Louisiana Superdome  New Orleans  Louisiana   \n",
       "\n",
       "    attendance          team_winner  winning_pts  qb_winner_1 qb_winner_2  \\\n",
       "28       72919  San Francisco 49ers           55  Joe Montana         NaN   \n",
       "\n",
       "      coach_winner      team_loser  losing_pts  qb_loser_1 qb_loser_2  \\\n",
       "28  George Seifert  Denver Broncos          10  John Elway        NaN   \n",
       "\n",
       "   coach_loser  combined_pts  difference_pts  \n",
       "28  Dan Reeves            65              45  "
      ]
     },
     "metadata": {},
     "output_type": "display_data"
    }
   ],
   "source": [
    "# Display the closest game(s) and biggest blowouts\n",
    "display(super_bowls[super_bowls['difference_pts'] == 1])\n",
    "display(super_bowls[super_bowls['difference_pts'] == 45])"
   ]
  },
  {
   "cell_type": "markdown",
   "metadata": {
    "dc": {
     "key": "31"
    },
    "deletable": false,
    "editable": false,
    "run_control": {
     "frozen": true
    },
    "tags": [
     "context"
    ]
   },
   "source": [
    "## 5. Do blowouts translate to lost viewers?\n",
    "<p>The vast majority of Super Bowls are close games. Makes sense. Both teams are likely to be deserving if they've made it this far. The closest game ever was when the Buffalo Bills lost to the New York Giants by 1 point in 1991, which was  best remembered for Scott Norwood's last-second missed field goal attempt that went <em><a href=\"https://www.youtube.com/watch?v=RPFZCGgjDSg\">wide right</a></em>, kicking off four Bills Super Bowl losses in a row. Poor Scott. The biggest point discrepancy ever was 45 points (!) where Hall of Famer Joe Montana's led the San Francisco 49ers to victory in 1990, one year before the closest game ever.</p>\n",
    "<p>I remember watching the Seahawks crush the Broncos by 35 points (43-8) in 2014, which was a boring experience in my opinion. The game was never really close. I'm pretty sure we changed the channel at the end of the third quarter. Let's combine our game data and TV to see if this is a universal phenomenon. Do large point differences translate to lost viewers? We can plot <a href=\"https://en.wikipedia.org/wiki/Nielsen_ratings\">household share</a> <em>(average percentage of U.S. households with a TV in use that were watching for the entire broadcast)</em> vs. point difference to find out.</p>"
   ]
  },
  {
   "cell_type": "code",
   "execution_count": 17,
   "metadata": {
    "dc": {
     "key": "31"
    },
    "tags": [
     "sample_code"
    ]
   },
   "outputs": [
    {
     "data": {
      "text/html": [
       "<div>\n",
       "<style scoped>\n",
       "    .dataframe tbody tr th:only-of-type {\n",
       "        vertical-align: middle;\n",
       "    }\n",
       "\n",
       "    .dataframe tbody tr th {\n",
       "        vertical-align: top;\n",
       "    }\n",
       "\n",
       "    .dataframe thead th {\n",
       "        text-align: right;\n",
       "    }\n",
       "</style>\n",
       "<table border=\"1\" class=\"dataframe\">\n",
       "  <thead>\n",
       "    <tr style=\"text-align: right;\">\n",
       "      <th></th>\n",
       "      <th>super_bowl</th>\n",
       "      <th>network</th>\n",
       "      <th>avg_us_viewers</th>\n",
       "      <th>total_us_viewers</th>\n",
       "      <th>rating_household</th>\n",
       "      <th>share_household</th>\n",
       "      <th>rating_18_49</th>\n",
       "      <th>share_18_49</th>\n",
       "      <th>ad_cost</th>\n",
       "      <th>date</th>\n",
       "      <th>...</th>\n",
       "      <th>qb_winner_1</th>\n",
       "      <th>qb_winner_2</th>\n",
       "      <th>coach_winner</th>\n",
       "      <th>team_loser</th>\n",
       "      <th>losing_pts</th>\n",
       "      <th>qb_loser_1</th>\n",
       "      <th>qb_loser_2</th>\n",
       "      <th>coach_loser</th>\n",
       "      <th>combined_pts</th>\n",
       "      <th>difference_pts</th>\n",
       "    </tr>\n",
       "  </thead>\n",
       "  <tbody>\n",
       "    <tr>\n",
       "      <th>0</th>\n",
       "      <td>52</td>\n",
       "      <td>NBC</td>\n",
       "      <td>103390000</td>\n",
       "      <td>NaN</td>\n",
       "      <td>43.1</td>\n",
       "      <td>68</td>\n",
       "      <td>33.4</td>\n",
       "      <td>78.0</td>\n",
       "      <td>5000000</td>\n",
       "      <td>2018-02-04</td>\n",
       "      <td>...</td>\n",
       "      <td>Nick Foles</td>\n",
       "      <td>NaN</td>\n",
       "      <td>Doug Pederson</td>\n",
       "      <td>New England Patriots</td>\n",
       "      <td>33</td>\n",
       "      <td>Tom Brady</td>\n",
       "      <td>NaN</td>\n",
       "      <td>Bill Belichick</td>\n",
       "      <td>74</td>\n",
       "      <td>8</td>\n",
       "    </tr>\n",
       "    <tr>\n",
       "      <th>1</th>\n",
       "      <td>51</td>\n",
       "      <td>Fox</td>\n",
       "      <td>111319000</td>\n",
       "      <td>172000000.0</td>\n",
       "      <td>45.3</td>\n",
       "      <td>73</td>\n",
       "      <td>37.1</td>\n",
       "      <td>79.0</td>\n",
       "      <td>5000000</td>\n",
       "      <td>2017-02-05</td>\n",
       "      <td>...</td>\n",
       "      <td>Tom Brady</td>\n",
       "      <td>NaN</td>\n",
       "      <td>Bill Belichick</td>\n",
       "      <td>Atlanta Falcons</td>\n",
       "      <td>28</td>\n",
       "      <td>Matt Ryan</td>\n",
       "      <td>NaN</td>\n",
       "      <td>Dan Quinn</td>\n",
       "      <td>62</td>\n",
       "      <td>6</td>\n",
       "    </tr>\n",
       "    <tr>\n",
       "      <th>2</th>\n",
       "      <td>50</td>\n",
       "      <td>CBS</td>\n",
       "      <td>111864000</td>\n",
       "      <td>167000000.0</td>\n",
       "      <td>46.6</td>\n",
       "      <td>72</td>\n",
       "      <td>37.7</td>\n",
       "      <td>79.0</td>\n",
       "      <td>5000000</td>\n",
       "      <td>2016-02-07</td>\n",
       "      <td>...</td>\n",
       "      <td>Peyton Manning</td>\n",
       "      <td>NaN</td>\n",
       "      <td>Gary Kubiak</td>\n",
       "      <td>Carolina Panthers</td>\n",
       "      <td>10</td>\n",
       "      <td>Cam Newton</td>\n",
       "      <td>NaN</td>\n",
       "      <td>Ron Rivera</td>\n",
       "      <td>34</td>\n",
       "      <td>14</td>\n",
       "    </tr>\n",
       "    <tr>\n",
       "      <th>3</th>\n",
       "      <td>49</td>\n",
       "      <td>NBC</td>\n",
       "      <td>114442000</td>\n",
       "      <td>168000000.0</td>\n",
       "      <td>47.5</td>\n",
       "      <td>71</td>\n",
       "      <td>39.1</td>\n",
       "      <td>79.0</td>\n",
       "      <td>4500000</td>\n",
       "      <td>2015-02-01</td>\n",
       "      <td>...</td>\n",
       "      <td>Tom Brady</td>\n",
       "      <td>NaN</td>\n",
       "      <td>Bill Belichick</td>\n",
       "      <td>Seattle Seahawks</td>\n",
       "      <td>24</td>\n",
       "      <td>Russell Wilson</td>\n",
       "      <td>NaN</td>\n",
       "      <td>Pete Carroll</td>\n",
       "      <td>52</td>\n",
       "      <td>4</td>\n",
       "    </tr>\n",
       "    <tr>\n",
       "      <th>4</th>\n",
       "      <td>48</td>\n",
       "      <td>Fox</td>\n",
       "      <td>112191000</td>\n",
       "      <td>167000000.0</td>\n",
       "      <td>46.7</td>\n",
       "      <td>69</td>\n",
       "      <td>39.3</td>\n",
       "      <td>77.0</td>\n",
       "      <td>4000000</td>\n",
       "      <td>2014-02-02</td>\n",
       "      <td>...</td>\n",
       "      <td>Russell Wilson</td>\n",
       "      <td>NaN</td>\n",
       "      <td>Pete Carroll</td>\n",
       "      <td>Denver Broncos</td>\n",
       "      <td>8</td>\n",
       "      <td>Peyton Manning</td>\n",
       "      <td>NaN</td>\n",
       "      <td>John Fox</td>\n",
       "      <td>51</td>\n",
       "      <td>35</td>\n",
       "    </tr>\n",
       "  </tbody>\n",
       "</table>\n",
       "<p>5 rows × 26 columns</p>\n",
       "</div>"
      ],
      "text/plain": [
       "   super_bowl network  avg_us_viewers  total_us_viewers  rating_household  \\\n",
       "0          52     NBC       103390000               NaN              43.1   \n",
       "1          51     Fox       111319000       172000000.0              45.3   \n",
       "2          50     CBS       111864000       167000000.0              46.6   \n",
       "3          49     NBC       114442000       168000000.0              47.5   \n",
       "4          48     Fox       112191000       167000000.0              46.7   \n",
       "\n",
       "   share_household  rating_18_49  share_18_49  ad_cost        date  ...  \\\n",
       "0               68          33.4         78.0  5000000  2018-02-04  ...   \n",
       "1               73          37.1         79.0  5000000  2017-02-05  ...   \n",
       "2               72          37.7         79.0  5000000  2016-02-07  ...   \n",
       "3               71          39.1         79.0  4500000  2015-02-01  ...   \n",
       "4               69          39.3         77.0  4000000  2014-02-02  ...   \n",
       "\n",
       "      qb_winner_1 qb_winner_2    coach_winner            team_loser  \\\n",
       "0      Nick Foles         NaN   Doug Pederson  New England Patriots   \n",
       "1       Tom Brady         NaN  Bill Belichick       Atlanta Falcons   \n",
       "2  Peyton Manning         NaN     Gary Kubiak     Carolina Panthers   \n",
       "3       Tom Brady         NaN  Bill Belichick      Seattle Seahawks   \n",
       "4  Russell Wilson         NaN    Pete Carroll        Denver Broncos   \n",
       "\n",
       "  losing_pts      qb_loser_1 qb_loser_2     coach_loser combined_pts  \\\n",
       "0         33       Tom Brady        NaN  Bill Belichick           74   \n",
       "1         28       Matt Ryan        NaN       Dan Quinn           62   \n",
       "2         10      Cam Newton        NaN      Ron Rivera           34   \n",
       "3         24  Russell Wilson        NaN    Pete Carroll           52   \n",
       "4          8  Peyton Manning        NaN        John Fox           51   \n",
       "\n",
       "  difference_pts  \n",
       "0              8  \n",
       "1              6  \n",
       "2             14  \n",
       "3              4  \n",
       "4             35  \n",
       "\n",
       "[5 rows x 26 columns]"
      ]
     },
     "execution_count": 17,
     "metadata": {},
     "output_type": "execute_result"
    }
   ],
   "source": [
    "# Join game and TV data, filtering out SB I because it was split over two networks\n",
    "dataset = pd.merge(tv,super_bowls, how='outer', on='super_bowl')\n",
    "dataset.head()"
   ]
  },
  {
   "cell_type": "code",
   "execution_count": 18,
   "metadata": {
    "dc": {
     "key": "31"
    },
    "tags": [
     "sample_code"
    ]
   },
   "outputs": [
    {
     "data": {
      "text/plain": [
       "<AxesSubplot:xlabel='difference_pts', ylabel='share_household'>"
      ]
     },
     "execution_count": 18,
     "metadata": {},
     "output_type": "execute_result"
    },
    {
     "data": {
      "image/png": "[encoded data removed]",
      "text/plain": [
       "<Figure size 576x396 with 1 Axes>"
      ]
     },
     "metadata": {},
     "output_type": "display_data"
    }
   ],
   "source": [
    "# Import seaborn\n",
    "import seaborn as sns\n",
    "\n",
    "# Create a scatter plot with a linear regression model fit\n",
    "sns.regplot(x = dataset['difference_pts'], y = dataset['share_household'], data = dataset)"
   ]
  },
  {
   "cell_type": "markdown",
   "metadata": {
    "dc": {
     "key": "38"
    },
    "deletable": false,
    "editable": false,
    "run_control": {
     "frozen": true
    },
    "tags": [
     "context"
    ]
   },
   "source": [
    "## 6. Viewership and the ad industry over time\n",
    "<p>The downward sloping regression line and the 95% confidence interval for that regression <em>suggest</em> that bailing on the game if it is a blowout is common. Though it matches our intuition, we must take it with a grain of salt because the linear relationship in the data is weak due to our small sample size of 52 games.</p>\n",
    "<p>Regardless of the score though, I bet most people stick it out for the halftime show, which is good news for the TV networks and advertisers. A 30-second spot costs a pretty <a href=\"https://www.businessinsider.com/super-bowl-commercials-cost-more-than-eagles-quarterback-earns-2018-1\">\\$5 million</a> now, but has it always been that way? And how have number of viewers and household ratings trended alongside ad cost? We can find out using line plots that share a \"Super Bowl\" x-axis.</p>"
   ]
  },
  {
   "cell_type": "code",
   "execution_count": 19,
   "metadata": {
    "dc": {
     "key": "38"
    },
    "tags": [
     "sample_code"
    ]
   },
   "outputs": [
    {
     "data": {
      "text/plain": [
       "Text(0.5, 1.0, 'Average Number of US Viewers')"
      ]
     },
     "execution_count": 19,
     "metadata": {},
     "output_type": "execute_result"
    },
    {
     "data": {
      "image/png": "[encoded data removed]",
      "text/plain": [
       "<Figure size 576x396 with 1 Axes>"
      ]
     },
     "metadata": {},
     "output_type": "display_data"
    }
   ],
   "source": [
    "# Create a figure with 3x1 subplot and activate the top subplot\n",
    "plt.subplot(3, 1, 1)\n",
    "plt.plot(dataset['super_bowl'], dataset['avg_us_viewers'], color='#648FFF')\n",
    "plt.title('Average Number of US Viewers')"
   ]
  },
  {
   "cell_type": "code",
   "execution_count": 20,
   "metadata": {
    "dc": {
     "key": "38"
    },
    "tags": [
     "sample_code"
    ]
   },
   "outputs": [
    {
     "data": {
      "text/plain": [
       "Text(0.5, 1.0, 'Household Rating')"
      ]
     },
     "execution_count": 20,
     "metadata": {},
     "output_type": "execute_result"
    },
    {
     "data": {
      "image/png": "[encoded data removed]",
      "text/plain": [
       "<Figure size 576x396 with 1 Axes>"
      ]
     },
     "metadata": {},
     "output_type": "display_data"
    }
   ],
   "source": [
    "# Activate the middle subplot\n",
    "plt.subplot(3, 1, 2)\n",
    "plt.plot(dataset['super_bowl'], dataset['rating_household'], color = '#DC267F')\n",
    "plt.title('Household Rating')"
   ]
  },
  {
   "cell_type": "code",
   "execution_count": 21,
   "metadata": {
    "dc": {
     "key": "38"
    },
    "tags": [
     "sample_code"
    ]
   },
   "outputs": [
    {
     "data": {
      "text/plain": [
       "Text(0.5, 0, 'SUPER BOWL')"
      ]
     },
     "execution_count": 21,
     "metadata": {},
     "output_type": "execute_result"
    },
    {
     "data": {
      "image/png": "[encoded data removed]",
      "text/plain": [
       "<Figure size 576x396 with 1 Axes>"
      ]
     },
     "metadata": {},
     "output_type": "display_data"
    }
   ],
   "source": [
    "# Activate the bottom subplot\n",
    "plt.subplot(3, 1, 3)\n",
    "plt.plot(dataset['super_bowl'], dataset['ad_cost'], color = '#FFB000')\n",
    "plt.title('Ad Cost')\n",
    "plt.xlabel('SUPER BOWL')"
   ]
  },
  {
   "cell_type": "code",
   "execution_count": 22,
   "metadata": {
    "dc": {
     "key": "38"
    },
    "tags": [
     "sample_code"
    ]
   },
   "outputs": [
    {
     "data": {
      "text/plain": [
       "<Figure size 576x396 with 0 Axes>"
      ]
     },
     "metadata": {},
     "output_type": "display_data"
    }
   ],
   "source": [
    "# Improve the spacing between subplots\n",
    "plt.tight_layout()"
   ]
  },
  {
   "cell_type": "markdown",
   "metadata": {
    "dc": {
     "key": "45"
    },
    "deletable": false,
    "editable": false,
    "run_control": {
     "frozen": true
    },
    "tags": [
     "context"
    ]
   },
   "source": [
    "## 7. Halftime shows weren't always this great\n",
    "<p>We can see viewers increased before ad costs did. Maybe the networks weren't very data savvy and were slow to react? Makes sense since DataCamp didn't exist back then.</p>\n",
    "<p>Another hypothesis: maybe halftime shows weren't that good in the earlier years? The modern spectacle of the Super Bowl has a lot to do with the cultural prestige of big halftime acts. I went down a YouTube rabbit hole and it turns out the old ones weren't up to today's standards. Some offenders:</p>\n",
    "<ul>\n",
    "<li><a href=\"https://youtu.be/6wMXHxWO4ns?t=263\">Super Bowl XXVI</a> in 1992: A Frosty The Snowman rap performed by children.</li>\n",
    "<li><a href=\"https://www.youtube.com/watch?v=PKQTL1PYSag\">Super Bowl XXIII</a> in 1989: An Elvis impersonator that did magic tricks and didn't even sing one Elvis song.</li>\n",
    "<li><a href=\"https://youtu.be/oSXMNbK2e98?t=436\">Super Bowl XXI</a> in 1987: Tap dancing ponies. (Okay, that's pretty awesome actually.)</li>\n",
    "</ul>\n",
    "<p>It turns out Michael Jackson's Super Bowl XXVII performance, one of the most watched events in American TV history, was when the NFL realized the value of Super Bowl airtime and decided they needed to sign big name acts from then on out. The halftime shows before MJ indeed weren't that impressive, which we can see by filtering our <code>halftime_musician</code> data.</p>"
   ]
  },
  {
   "cell_type": "code",
   "execution_count": 23,
   "metadata": {
    "dc": {
     "key": "45"
    },
    "tags": [
     "sample_code"
    ]
   },
   "outputs": [
    {
     "data": {
      "text/html": [
       "<div>\n",
       "<style scoped>\n",
       "    .dataframe tbody tr th:only-of-type {\n",
       "        vertical-align: middle;\n",
       "    }\n",
       "\n",
       "    .dataframe tbody tr th {\n",
       "        vertical-align: top;\n",
       "    }\n",
       "\n",
       "    .dataframe thead th {\n",
       "        text-align: right;\n",
       "    }\n",
       "</style>\n",
       "<table border=\"1\" class=\"dataframe\">\n",
       "  <thead>\n",
       "    <tr style=\"text-align: right;\">\n",
       "      <th></th>\n",
       "      <th>super_bowl</th>\n",
       "      <th>musician</th>\n",
       "      <th>num_songs</th>\n",
       "    </tr>\n",
       "  </thead>\n",
       "  <tbody>\n",
       "    <tr>\n",
       "      <th>80</th>\n",
       "      <td>27</td>\n",
       "      <td>Michael Jackson</td>\n",
       "      <td>5.0</td>\n",
       "    </tr>\n",
       "    <tr>\n",
       "      <th>81</th>\n",
       "      <td>26</td>\n",
       "      <td>Gloria Estefan</td>\n",
       "      <td>2.0</td>\n",
       "    </tr>\n",
       "    <tr>\n",
       "      <th>82</th>\n",
       "      <td>26</td>\n",
       "      <td>University of Minnesota Marching Band</td>\n",
       "      <td>NaN</td>\n",
       "    </tr>\n",
       "    <tr>\n",
       "      <th>83</th>\n",
       "      <td>25</td>\n",
       "      <td>New Kids on the Block</td>\n",
       "      <td>2.0</td>\n",
       "    </tr>\n",
       "    <tr>\n",
       "      <th>84</th>\n",
       "      <td>24</td>\n",
       "      <td>Pete Fountain</td>\n",
       "      <td>1.0</td>\n",
       "    </tr>\n",
       "    <tr>\n",
       "      <th>85</th>\n",
       "      <td>24</td>\n",
       "      <td>Doug Kershaw</td>\n",
       "      <td>1.0</td>\n",
       "    </tr>\n",
       "    <tr>\n",
       "      <th>86</th>\n",
       "      <td>24</td>\n",
       "      <td>Irma Thomas</td>\n",
       "      <td>1.0</td>\n",
       "    </tr>\n",
       "    <tr>\n",
       "      <th>87</th>\n",
       "      <td>24</td>\n",
       "      <td>Pride of Nicholls Marching Band</td>\n",
       "      <td>NaN</td>\n",
       "    </tr>\n",
       "    <tr>\n",
       "      <th>88</th>\n",
       "      <td>24</td>\n",
       "      <td>The Human Jukebox</td>\n",
       "      <td>NaN</td>\n",
       "    </tr>\n",
       "    <tr>\n",
       "      <th>89</th>\n",
       "      <td>24</td>\n",
       "      <td>Pride of Acadiana</td>\n",
       "      <td>NaN</td>\n",
       "    </tr>\n",
       "    <tr>\n",
       "      <th>90</th>\n",
       "      <td>23</td>\n",
       "      <td>Elvis Presto</td>\n",
       "      <td>7.0</td>\n",
       "    </tr>\n",
       "    <tr>\n",
       "      <th>91</th>\n",
       "      <td>22</td>\n",
       "      <td>Chubby Checker</td>\n",
       "      <td>2.0</td>\n",
       "    </tr>\n",
       "    <tr>\n",
       "      <th>92</th>\n",
       "      <td>22</td>\n",
       "      <td>San Diego State University Marching Aztecs</td>\n",
       "      <td>NaN</td>\n",
       "    </tr>\n",
       "    <tr>\n",
       "      <th>93</th>\n",
       "      <td>22</td>\n",
       "      <td>Spirit of Troy</td>\n",
       "      <td>NaN</td>\n",
       "    </tr>\n",
       "    <tr>\n",
       "      <th>94</th>\n",
       "      <td>21</td>\n",
       "      <td>Grambling State University Tiger Marching Band</td>\n",
       "      <td>8.0</td>\n",
       "    </tr>\n",
       "    <tr>\n",
       "      <th>95</th>\n",
       "      <td>21</td>\n",
       "      <td>Spirit of Troy</td>\n",
       "      <td>8.0</td>\n",
       "    </tr>\n",
       "    <tr>\n",
       "      <th>96</th>\n",
       "      <td>20</td>\n",
       "      <td>Up with People</td>\n",
       "      <td>NaN</td>\n",
       "    </tr>\n",
       "    <tr>\n",
       "      <th>97</th>\n",
       "      <td>19</td>\n",
       "      <td>Tops In Blue</td>\n",
       "      <td>NaN</td>\n",
       "    </tr>\n",
       "    <tr>\n",
       "      <th>98</th>\n",
       "      <td>18</td>\n",
       "      <td>The University of Florida Fightin' Gator March...</td>\n",
       "      <td>7.0</td>\n",
       "    </tr>\n",
       "    <tr>\n",
       "      <th>99</th>\n",
       "      <td>18</td>\n",
       "      <td>The Florida State University Marching Chiefs</td>\n",
       "      <td>7.0</td>\n",
       "    </tr>\n",
       "    <tr>\n",
       "      <th>100</th>\n",
       "      <td>17</td>\n",
       "      <td>Los Angeles Unified School District All City H...</td>\n",
       "      <td>NaN</td>\n",
       "    </tr>\n",
       "    <tr>\n",
       "      <th>101</th>\n",
       "      <td>16</td>\n",
       "      <td>Up with People</td>\n",
       "      <td>NaN</td>\n",
       "    </tr>\n",
       "    <tr>\n",
       "      <th>102</th>\n",
       "      <td>15</td>\n",
       "      <td>The Human Jukebox</td>\n",
       "      <td>NaN</td>\n",
       "    </tr>\n",
       "    <tr>\n",
       "      <th>103</th>\n",
       "      <td>15</td>\n",
       "      <td>Helen O'Connell</td>\n",
       "      <td>NaN</td>\n",
       "    </tr>\n",
       "    <tr>\n",
       "      <th>104</th>\n",
       "      <td>14</td>\n",
       "      <td>Up with People</td>\n",
       "      <td>NaN</td>\n",
       "    </tr>\n",
       "    <tr>\n",
       "      <th>105</th>\n",
       "      <td>14</td>\n",
       "      <td>Grambling State University Tiger Marching Band</td>\n",
       "      <td>NaN</td>\n",
       "    </tr>\n",
       "    <tr>\n",
       "      <th>106</th>\n",
       "      <td>13</td>\n",
       "      <td>Ken Hamilton</td>\n",
       "      <td>NaN</td>\n",
       "    </tr>\n",
       "    <tr>\n",
       "      <th>107</th>\n",
       "      <td>13</td>\n",
       "      <td>Gramacks</td>\n",
       "      <td>NaN</td>\n",
       "    </tr>\n",
       "    <tr>\n",
       "      <th>108</th>\n",
       "      <td>12</td>\n",
       "      <td>Tyler Junior College Apache Band</td>\n",
       "      <td>NaN</td>\n",
       "    </tr>\n",
       "    <tr>\n",
       "      <th>109</th>\n",
       "      <td>12</td>\n",
       "      <td>Pete Fountain</td>\n",
       "      <td>NaN</td>\n",
       "    </tr>\n",
       "    <tr>\n",
       "      <th>110</th>\n",
       "      <td>12</td>\n",
       "      <td>Al Hirt</td>\n",
       "      <td>NaN</td>\n",
       "    </tr>\n",
       "    <tr>\n",
       "      <th>111</th>\n",
       "      <td>11</td>\n",
       "      <td>Los Angeles Unified School District All City H...</td>\n",
       "      <td>NaN</td>\n",
       "    </tr>\n",
       "    <tr>\n",
       "      <th>112</th>\n",
       "      <td>10</td>\n",
       "      <td>Up with People</td>\n",
       "      <td>NaN</td>\n",
       "    </tr>\n",
       "    <tr>\n",
       "      <th>113</th>\n",
       "      <td>9</td>\n",
       "      <td>Mercer Ellington</td>\n",
       "      <td>NaN</td>\n",
       "    </tr>\n",
       "    <tr>\n",
       "      <th>114</th>\n",
       "      <td>9</td>\n",
       "      <td>Grambling State University Tiger Marching Band</td>\n",
       "      <td>NaN</td>\n",
       "    </tr>\n",
       "    <tr>\n",
       "      <th>115</th>\n",
       "      <td>8</td>\n",
       "      <td>University of Texas Longhorn Band</td>\n",
       "      <td>NaN</td>\n",
       "    </tr>\n",
       "    <tr>\n",
       "      <th>116</th>\n",
       "      <td>8</td>\n",
       "      <td>Judy Mallett</td>\n",
       "      <td>NaN</td>\n",
       "    </tr>\n",
       "    <tr>\n",
       "      <th>117</th>\n",
       "      <td>7</td>\n",
       "      <td>University of Michigan Marching Band</td>\n",
       "      <td>NaN</td>\n",
       "    </tr>\n",
       "    <tr>\n",
       "      <th>118</th>\n",
       "      <td>7</td>\n",
       "      <td>Woody Herman</td>\n",
       "      <td>NaN</td>\n",
       "    </tr>\n",
       "    <tr>\n",
       "      <th>119</th>\n",
       "      <td>7</td>\n",
       "      <td>Andy Williams</td>\n",
       "      <td>NaN</td>\n",
       "    </tr>\n",
       "    <tr>\n",
       "      <th>120</th>\n",
       "      <td>6</td>\n",
       "      <td>Ella Fitzgerald</td>\n",
       "      <td>NaN</td>\n",
       "    </tr>\n",
       "    <tr>\n",
       "      <th>121</th>\n",
       "      <td>6</td>\n",
       "      <td>Carol Channing</td>\n",
       "      <td>NaN</td>\n",
       "    </tr>\n",
       "    <tr>\n",
       "      <th>122</th>\n",
       "      <td>6</td>\n",
       "      <td>Al Hirt</td>\n",
       "      <td>NaN</td>\n",
       "    </tr>\n",
       "    <tr>\n",
       "      <th>123</th>\n",
       "      <td>6</td>\n",
       "      <td>United States Air Force Academy Cadet Chorale</td>\n",
       "      <td>NaN</td>\n",
       "    </tr>\n",
       "    <tr>\n",
       "      <th>124</th>\n",
       "      <td>5</td>\n",
       "      <td>Southeast Missouri State Marching Band</td>\n",
       "      <td>NaN</td>\n",
       "    </tr>\n",
       "    <tr>\n",
       "      <th>125</th>\n",
       "      <td>4</td>\n",
       "      <td>Marguerite Piazza</td>\n",
       "      <td>NaN</td>\n",
       "    </tr>\n",
       "    <tr>\n",
       "      <th>126</th>\n",
       "      <td>4</td>\n",
       "      <td>Doc Severinsen</td>\n",
       "      <td>NaN</td>\n",
       "    </tr>\n",
       "    <tr>\n",
       "      <th>127</th>\n",
       "      <td>4</td>\n",
       "      <td>Al Hirt</td>\n",
       "      <td>NaN</td>\n",
       "    </tr>\n",
       "    <tr>\n",
       "      <th>128</th>\n",
       "      <td>4</td>\n",
       "      <td>The Human Jukebox</td>\n",
       "      <td>NaN</td>\n",
       "    </tr>\n",
       "    <tr>\n",
       "      <th>129</th>\n",
       "      <td>3</td>\n",
       "      <td>Florida A&amp;M University Marching 100 Band</td>\n",
       "      <td>NaN</td>\n",
       "    </tr>\n",
       "    <tr>\n",
       "      <th>130</th>\n",
       "      <td>2</td>\n",
       "      <td>Grambling State University Tiger Marching Band</td>\n",
       "      <td>NaN</td>\n",
       "    </tr>\n",
       "    <tr>\n",
       "      <th>131</th>\n",
       "      <td>1</td>\n",
       "      <td>University of Arizona Symphonic Marching Band</td>\n",
       "      <td>NaN</td>\n",
       "    </tr>\n",
       "    <tr>\n",
       "      <th>132</th>\n",
       "      <td>1</td>\n",
       "      <td>Grambling State University Tiger Marching Band</td>\n",
       "      <td>NaN</td>\n",
       "    </tr>\n",
       "    <tr>\n",
       "      <th>133</th>\n",
       "      <td>1</td>\n",
       "      <td>Al Hirt</td>\n",
       "      <td>NaN</td>\n",
       "    </tr>\n",
       "  </tbody>\n",
       "</table>\n",
       "</div>"
      ],
      "text/plain": [
       "     super_bowl                                           musician  num_songs\n",
       "80           27                                    Michael Jackson        5.0\n",
       "81           26                                     Gloria Estefan        2.0\n",
       "82           26              University of Minnesota Marching Band        NaN\n",
       "83           25                              New Kids on the Block        2.0\n",
       "84           24                                      Pete Fountain        1.0\n",
       "85           24                                       Doug Kershaw        1.0\n",
       "86           24                                        Irma Thomas        1.0\n",
       "87           24                    Pride of Nicholls Marching Band        NaN\n",
       "88           24                                  The Human Jukebox        NaN\n",
       "89           24                                  Pride of Acadiana        NaN\n",
       "90           23                                       Elvis Presto        7.0\n",
       "91           22                                     Chubby Checker        2.0\n",
       "92           22         San Diego State University Marching Aztecs        NaN\n",
       "93           22                                     Spirit of Troy        NaN\n",
       "94           21     Grambling State University Tiger Marching Band        8.0\n",
       "95           21                                     Spirit of Troy        8.0\n",
       "96           20                                     Up with People        NaN\n",
       "97           19                                       Tops In Blue        NaN\n",
       "98           18  The University of Florida Fightin' Gator March...        7.0\n",
       "99           18       The Florida State University Marching Chiefs        7.0\n",
       "100          17  Los Angeles Unified School District All City H...        NaN\n",
       "101          16                                     Up with People        NaN\n",
       "102          15                                  The Human Jukebox        NaN\n",
       "103          15                                    Helen O'Connell        NaN\n",
       "104          14                                     Up with People        NaN\n",
       "105          14     Grambling State University Tiger Marching Band        NaN\n",
       "106          13                                       Ken Hamilton        NaN\n",
       "107          13                                           Gramacks        NaN\n",
       "108          12                   Tyler Junior College Apache Band        NaN\n",
       "109          12                                      Pete Fountain        NaN\n",
       "110          12                                            Al Hirt        NaN\n",
       "111          11  Los Angeles Unified School District All City H...        NaN\n",
       "112          10                                     Up with People        NaN\n",
       "113           9                                   Mercer Ellington        NaN\n",
       "114           9     Grambling State University Tiger Marching Band        NaN\n",
       "115           8                  University of Texas Longhorn Band        NaN\n",
       "116           8                                       Judy Mallett        NaN\n",
       "117           7               University of Michigan Marching Band        NaN\n",
       "118           7                                       Woody Herman        NaN\n",
       "119           7                                      Andy Williams        NaN\n",
       "120           6                                    Ella Fitzgerald        NaN\n",
       "121           6                                     Carol Channing        NaN\n",
       "122           6                                            Al Hirt        NaN\n",
       "123           6      United States Air Force Academy Cadet Chorale        NaN\n",
       "124           5             Southeast Missouri State Marching Band        NaN\n",
       "125           4                                  Marguerite Piazza        NaN\n",
       "126           4                                     Doc Severinsen        NaN\n",
       "127           4                                            Al Hirt        NaN\n",
       "128           4                                  The Human Jukebox        NaN\n",
       "129           3           Florida A&M University Marching 100 Band        NaN\n",
       "130           2     Grambling State University Tiger Marching Band        NaN\n",
       "131           1      University of Arizona Symphonic Marching Band        NaN\n",
       "132           1     Grambling State University Tiger Marching Band        NaN\n",
       "133           1                                            Al Hirt        NaN"
      ]
     },
     "metadata": {},
     "output_type": "display_data"
    }
   ],
   "source": [
    "# Display all halftime musicians for Super Bowls up to and including Super Bowl XXVII\n",
    "display(musicians[musicians['super_bowl'] <= 27])"
   ]
  },
  {
   "cell_type": "markdown",
   "metadata": {
    "dc": {
     "key": "52"
    },
    "deletable": false,
    "editable": false,
    "run_control": {
     "frozen": true
    },
    "tags": [
     "context"
    ]
   },
   "source": [
    "## 8. Who has the most halftime show appearances?\n",
    "<p>Lots of marching bands. American jazz clarinetist Pete Fountain. Miss Texas 1973 playing a violin. Nothing against those performers, they're just simply not <a href=\"https://www.youtube.com/watch?v=suIg9kTGBVI\">Beyoncé</a>. To be fair, no one is.</p>\n",
    "<p>Let's see all of the musicians that have done more than one halftime show, including their performance counts.</p>"
   ]
  },
  {
   "cell_type": "code",
   "execution_count": 24,
   "metadata": {
    "dc": {
     "key": "52"
    },
    "tags": [
     "sample_code"
    ]
   },
   "outputs": [
    {
     "data": {
      "text/html": [
       "<div>\n",
       "<style scoped>\n",
       "    .dataframe tbody tr th:only-of-type {\n",
       "        vertical-align: middle;\n",
       "    }\n",
       "\n",
       "    .dataframe tbody tr th {\n",
       "        vertical-align: top;\n",
       "    }\n",
       "\n",
       "    .dataframe thead th {\n",
       "        text-align: right;\n",
       "    }\n",
       "</style>\n",
       "<table border=\"1\" class=\"dataframe\">\n",
       "  <thead>\n",
       "    <tr style=\"text-align: right;\">\n",
       "      <th></th>\n",
       "      <th>super_bowl</th>\n",
       "    </tr>\n",
       "    <tr>\n",
       "      <th>musician</th>\n",
       "      <th></th>\n",
       "    </tr>\n",
       "  </thead>\n",
       "  <tbody>\n",
       "    <tr>\n",
       "      <th>Grambling State University Tiger Marching Band</th>\n",
       "      <td>6</td>\n",
       "    </tr>\n",
       "    <tr>\n",
       "      <th>Up with People</th>\n",
       "      <td>4</td>\n",
       "    </tr>\n",
       "    <tr>\n",
       "      <th>Al Hirt</th>\n",
       "      <td>4</td>\n",
       "    </tr>\n",
       "    <tr>\n",
       "      <th>The Human Jukebox</th>\n",
       "      <td>3</td>\n",
       "    </tr>\n",
       "    <tr>\n",
       "      <th>Spirit of Troy</th>\n",
       "      <td>2</td>\n",
       "    </tr>\n",
       "    <tr>\n",
       "      <th>...</th>\n",
       "      <td>...</td>\n",
       "    </tr>\n",
       "    <tr>\n",
       "      <th>Katy Perry</th>\n",
       "      <td>1</td>\n",
       "    </tr>\n",
       "    <tr>\n",
       "      <th>Judy Mallett</th>\n",
       "      <td>1</td>\n",
       "    </tr>\n",
       "    <tr>\n",
       "      <th>Jessica Simpson</th>\n",
       "      <td>1</td>\n",
       "    </tr>\n",
       "    <tr>\n",
       "      <th>Janet Jackson</th>\n",
       "      <td>1</td>\n",
       "    </tr>\n",
       "    <tr>\n",
       "      <th>will.i.am</th>\n",
       "      <td>1</td>\n",
       "    </tr>\n",
       "  </tbody>\n",
       "</table>\n",
       "<p>111 rows × 1 columns</p>\n",
       "</div>"
      ],
      "text/plain": [
       "                                                super_bowl\n",
       "musician                                                  \n",
       "Grambling State University Tiger Marching Band           6\n",
       "Up with People                                           4\n",
       "Al Hirt                                                  4\n",
       "The Human Jukebox                                        3\n",
       "Spirit of Troy                                           2\n",
       "...                                                    ...\n",
       "Katy Perry                                               1\n",
       "Judy Mallett                                             1\n",
       "Jessica Simpson                                          1\n",
       "Janet Jackson                                            1\n",
       "will.i.am                                                1\n",
       "\n",
       "[111 rows x 1 columns]"
      ]
     },
     "execution_count": 24,
     "metadata": {},
     "output_type": "execute_result"
    }
   ],
   "source": [
    "# Count halftime show appearances for each musician and sort them from most to least\n",
    "appearances = musicians.pivot_table(index = 'musician',\n",
    "                                    values = 'super_bowl',\n",
    "                                    aggfunc = ('count') ) \n",
    "appearances.sort_values('super_bowl', ascending = False)"
   ]
  },
  {
   "cell_type": "code",
   "execution_count": 25,
   "metadata": {
    "dc": {
     "key": "52"
    },
    "scrolled": true,
    "tags": [
     "sample_code"
    ]
   },
   "outputs": [
    {
     "data": {
      "text/html": [
       "<div>\n",
       "<style scoped>\n",
       "    .dataframe tbody tr th:only-of-type {\n",
       "        vertical-align: middle;\n",
       "    }\n",
       "\n",
       "    .dataframe tbody tr th {\n",
       "        vertical-align: top;\n",
       "    }\n",
       "\n",
       "    .dataframe thead th {\n",
       "        text-align: right;\n",
       "    }\n",
       "</style>\n",
       "<table border=\"1\" class=\"dataframe\">\n",
       "  <thead>\n",
       "    <tr style=\"text-align: right;\">\n",
       "      <th></th>\n",
       "      <th>super_bowl</th>\n",
       "    </tr>\n",
       "    <tr>\n",
       "      <th>musician</th>\n",
       "      <th></th>\n",
       "    </tr>\n",
       "  </thead>\n",
       "  <tbody>\n",
       "    <tr>\n",
       "      <th>Al Hirt</th>\n",
       "      <td>4</td>\n",
       "    </tr>\n",
       "    <tr>\n",
       "      <th>Beyoncé</th>\n",
       "      <td>2</td>\n",
       "    </tr>\n",
       "    <tr>\n",
       "      <th>Bruno Mars</th>\n",
       "      <td>2</td>\n",
       "    </tr>\n",
       "    <tr>\n",
       "      <th>Florida A&amp;M University Marching 100 Band</th>\n",
       "      <td>2</td>\n",
       "    </tr>\n",
       "    <tr>\n",
       "      <th>Gloria Estefan</th>\n",
       "      <td>2</td>\n",
       "    </tr>\n",
       "    <tr>\n",
       "      <th>Grambling State University Tiger Marching Band</th>\n",
       "      <td>6</td>\n",
       "    </tr>\n",
       "    <tr>\n",
       "      <th>Justin Timberlake</th>\n",
       "      <td>2</td>\n",
       "    </tr>\n",
       "    <tr>\n",
       "      <th>Los Angeles Unified School District All City Honor Marching Band</th>\n",
       "      <td>2</td>\n",
       "    </tr>\n",
       "    <tr>\n",
       "      <th>Nelly</th>\n",
       "      <td>2</td>\n",
       "    </tr>\n",
       "    <tr>\n",
       "      <th>Pete Fountain</th>\n",
       "      <td>2</td>\n",
       "    </tr>\n",
       "    <tr>\n",
       "      <th>Spirit of Troy</th>\n",
       "      <td>2</td>\n",
       "    </tr>\n",
       "    <tr>\n",
       "      <th>The Human Jukebox</th>\n",
       "      <td>3</td>\n",
       "    </tr>\n",
       "    <tr>\n",
       "      <th>University of Minnesota Marching Band</th>\n",
       "      <td>2</td>\n",
       "    </tr>\n",
       "    <tr>\n",
       "      <th>Up with People</th>\n",
       "      <td>4</td>\n",
       "    </tr>\n",
       "  </tbody>\n",
       "</table>\n",
       "</div>"
      ],
      "text/plain": [
       "                                                    super_bowl\n",
       "musician                                                      \n",
       "Al Hirt                                                      4\n",
       "Beyoncé                                                      2\n",
       "Bruno Mars                                                   2\n",
       "Florida A&M University Marching 100 Band                     2\n",
       "Gloria Estefan                                               2\n",
       "Grambling State University Tiger Marching Band               6\n",
       "Justin Timberlake                                            2\n",
       "Los Angeles Unified School District All City Ho...           2\n",
       "Nelly                                                        2\n",
       "Pete Fountain                                                2\n",
       "Spirit of Troy                                               2\n",
       "The Human Jukebox                                            3\n",
       "University of Minnesota Marching Band                        2\n",
       "Up with People                                               4"
      ]
     },
     "metadata": {},
     "output_type": "display_data"
    }
   ],
   "source": [
    "# Display musicians with more than one halftime show appearance\n",
    "display(appearances[appearances['super_bowl'] > 1])"
   ]
  },
  {
   "cell_type": "markdown",
   "metadata": {
    "dc": {
     "key": "59"
    },
    "deletable": false,
    "editable": false,
    "run_control": {
     "frozen": true
    },
    "tags": [
     "context"
    ]
   },
   "source": [
    "## 9. Who performed the most songs in a halftime show?\n",
    "<p>The world famous <a href=\"https://www.youtube.com/watch?v=RL_3oqpHiDg\">Grambling State University Tiger Marching Band</a> takes the crown with six appearances. Beyoncé, Justin Timberlake, Nelly, and Bruno Mars are the only post-Y2K musicians with multiple appearances (two each).</p>\n",
    "<p>From our previous inspections, the <code>num_songs</code> column has lots of missing values:</p>\n",
    "<ul>\n",
    "<li>A lot of the marching bands don't have <code>num_songs</code> entries.</li>\n",
    "<li>For non-marching bands, missing data starts occurring at Super Bowl XX.</li>\n",
    "</ul>\n",
    "<p>Let's filter out marching bands by filtering out musicians with the word \"Marching\" in them and the word \"Spirit\" (a common naming convention for marching bands is \"Spirit of [something]\"). Then we'll filter for Super Bowls after Super Bowl XX to address the missing data issue, <em>then</em> let's see who has the most number of songs.</p>"
   ]
  },
  {
   "cell_type": "code",
   "execution_count": 26,
   "metadata": {
    "dc": {
     "key": "59"
    },
    "tags": [
     "sample_code"
    ]
   },
   "outputs": [
    {
     "data": {
      "text/html": [
       "<div>\n",
       "<style scoped>\n",
       "    .dataframe tbody tr th:only-of-type {\n",
       "        vertical-align: middle;\n",
       "    }\n",
       "\n",
       "    .dataframe tbody tr th {\n",
       "        vertical-align: top;\n",
       "    }\n",
       "\n",
       "    .dataframe thead th {\n",
       "        text-align: right;\n",
       "    }\n",
       "</style>\n",
       "<table border=\"1\" class=\"dataframe\">\n",
       "  <thead>\n",
       "    <tr style=\"text-align: right;\">\n",
       "      <th></th>\n",
       "      <th>super_bowl</th>\n",
       "      <th>musician</th>\n",
       "      <th>num_songs</th>\n",
       "    </tr>\n",
       "  </thead>\n",
       "  <tbody>\n",
       "    <tr>\n",
       "      <th>1</th>\n",
       "      <td>52</td>\n",
       "      <td>University of Minnesota Marching Band</td>\n",
       "      <td>1.0</td>\n",
       "    </tr>\n",
       "    <tr>\n",
       "      <th>7</th>\n",
       "      <td>50</td>\n",
       "      <td>University of California Marching Band</td>\n",
       "      <td>3.0</td>\n",
       "    </tr>\n",
       "    <tr>\n",
       "      <th>13</th>\n",
       "      <td>49</td>\n",
       "      <td>Arizona State University Sun Devil Marching Band</td>\n",
       "      <td>NaN</td>\n",
       "    </tr>\n",
       "    <tr>\n",
       "      <th>34</th>\n",
       "      <td>41</td>\n",
       "      <td>Florida A&amp;M University Marching 100 Band</td>\n",
       "      <td>NaN</td>\n",
       "    </tr>\n",
       "    <tr>\n",
       "      <th>43</th>\n",
       "      <td>38</td>\n",
       "      <td>The Ocean of Soul Marching Band</td>\n",
       "      <td>NaN</td>\n",
       "    </tr>\n",
       "    <tr>\n",
       "      <th>44</th>\n",
       "      <td>38</td>\n",
       "      <td>The Spirit of Houston Cougar Marching Band</td>\n",
       "      <td>NaN</td>\n",
       "    </tr>\n",
       "    <tr>\n",
       "      <th>66</th>\n",
       "      <td>32</td>\n",
       "      <td>Grambling State University Tiger Marching Band</td>\n",
       "      <td>1.0</td>\n",
       "    </tr>\n",
       "    <tr>\n",
       "      <th>82</th>\n",
       "      <td>26</td>\n",
       "      <td>University of Minnesota Marching Band</td>\n",
       "      <td>NaN</td>\n",
       "    </tr>\n",
       "    <tr>\n",
       "      <th>87</th>\n",
       "      <td>24</td>\n",
       "      <td>Pride of Nicholls Marching Band</td>\n",
       "      <td>NaN</td>\n",
       "    </tr>\n",
       "    <tr>\n",
       "      <th>92</th>\n",
       "      <td>22</td>\n",
       "      <td>San Diego State University Marching Aztecs</td>\n",
       "      <td>NaN</td>\n",
       "    </tr>\n",
       "    <tr>\n",
       "      <th>94</th>\n",
       "      <td>21</td>\n",
       "      <td>Grambling State University Tiger Marching Band</td>\n",
       "      <td>8.0</td>\n",
       "    </tr>\n",
       "    <tr>\n",
       "      <th>98</th>\n",
       "      <td>18</td>\n",
       "      <td>The University of Florida Fightin' Gator March...</td>\n",
       "      <td>7.0</td>\n",
       "    </tr>\n",
       "    <tr>\n",
       "      <th>99</th>\n",
       "      <td>18</td>\n",
       "      <td>The Florida State University Marching Chiefs</td>\n",
       "      <td>7.0</td>\n",
       "    </tr>\n",
       "    <tr>\n",
       "      <th>100</th>\n",
       "      <td>17</td>\n",
       "      <td>Los Angeles Unified School District All City H...</td>\n",
       "      <td>NaN</td>\n",
       "    </tr>\n",
       "    <tr>\n",
       "      <th>105</th>\n",
       "      <td>14</td>\n",
       "      <td>Grambling State University Tiger Marching Band</td>\n",
       "      <td>NaN</td>\n",
       "    </tr>\n",
       "    <tr>\n",
       "      <th>111</th>\n",
       "      <td>11</td>\n",
       "      <td>Los Angeles Unified School District All City H...</td>\n",
       "      <td>NaN</td>\n",
       "    </tr>\n",
       "    <tr>\n",
       "      <th>114</th>\n",
       "      <td>9</td>\n",
       "      <td>Grambling State University Tiger Marching Band</td>\n",
       "      <td>NaN</td>\n",
       "    </tr>\n",
       "    <tr>\n",
       "      <th>117</th>\n",
       "      <td>7</td>\n",
       "      <td>University of Michigan Marching Band</td>\n",
       "      <td>NaN</td>\n",
       "    </tr>\n",
       "    <tr>\n",
       "      <th>124</th>\n",
       "      <td>5</td>\n",
       "      <td>Southeast Missouri State Marching Band</td>\n",
       "      <td>NaN</td>\n",
       "    </tr>\n",
       "    <tr>\n",
       "      <th>129</th>\n",
       "      <td>3</td>\n",
       "      <td>Florida A&amp;M University Marching 100 Band</td>\n",
       "      <td>NaN</td>\n",
       "    </tr>\n",
       "    <tr>\n",
       "      <th>130</th>\n",
       "      <td>2</td>\n",
       "      <td>Grambling State University Tiger Marching Band</td>\n",
       "      <td>NaN</td>\n",
       "    </tr>\n",
       "    <tr>\n",
       "      <th>131</th>\n",
       "      <td>1</td>\n",
       "      <td>University of Arizona Symphonic Marching Band</td>\n",
       "      <td>NaN</td>\n",
       "    </tr>\n",
       "    <tr>\n",
       "      <th>132</th>\n",
       "      <td>1</td>\n",
       "      <td>Grambling State University Tiger Marching Band</td>\n",
       "      <td>NaN</td>\n",
       "    </tr>\n",
       "  </tbody>\n",
       "</table>\n",
       "</div>"
      ],
      "text/plain": [
       "     super_bowl                                           musician  num_songs\n",
       "1            52              University of Minnesota Marching Band        1.0\n",
       "7            50             University of California Marching Band        3.0\n",
       "13           49   Arizona State University Sun Devil Marching Band        NaN\n",
       "34           41           Florida A&M University Marching 100 Band        NaN\n",
       "43           38                    The Ocean of Soul Marching Band        NaN\n",
       "44           38         The Spirit of Houston Cougar Marching Band        NaN\n",
       "66           32     Grambling State University Tiger Marching Band        1.0\n",
       "82           26              University of Minnesota Marching Band        NaN\n",
       "87           24                    Pride of Nicholls Marching Band        NaN\n",
       "92           22         San Diego State University Marching Aztecs        NaN\n",
       "94           21     Grambling State University Tiger Marching Band        8.0\n",
       "98           18  The University of Florida Fightin' Gator March...        7.0\n",
       "99           18       The Florida State University Marching Chiefs        7.0\n",
       "100          17  Los Angeles Unified School District All City H...        NaN\n",
       "105          14     Grambling State University Tiger Marching Band        NaN\n",
       "111          11  Los Angeles Unified School District All City H...        NaN\n",
       "114           9     Grambling State University Tiger Marching Band        NaN\n",
       "117           7               University of Michigan Marching Band        NaN\n",
       "124           5             Southeast Missouri State Marching Band        NaN\n",
       "129           3           Florida A&M University Marching 100 Band        NaN\n",
       "130           2     Grambling State University Tiger Marching Band        NaN\n",
       "131           1      University of Arizona Symphonic Marching Band        NaN\n",
       "132           1     Grambling State University Tiger Marching Band        NaN"
      ]
     },
     "execution_count": 26,
     "metadata": {},
     "output_type": "execute_result"
    }
   ],
   "source": [
    "# Filter out most marching bands\n",
    "no_bands = musicians[musicians['musician'].str.contains('Marching')]\n",
    "no_bands"
   ]
  },
  {
   "cell_type": "code",
   "execution_count": 27,
   "metadata": {
    "dc": {
     "key": "59"
    },
    "tags": [
     "sample_code"
    ]
   },
   "outputs": [
    {
     "data": {
      "image/png": "[encoded data removed]",
      "text/plain": [
       "<Figure size 576x396 with 1 Axes>"
      ]
     },
     "metadata": {},
     "output_type": "display_data"
    }
   ],
   "source": [
    "# Plot a histogram of number of songs per performance\n",
    "most_songs = int(max(no_bands['num_songs'].values))\n",
    "plt.hist(no_bands.num_songs.dropna(), bins=most_songs)\n",
    "plt.xlabel('Number of Songs Per Halftime Show Performance')\n",
    "plt.ylabel('Number of Musicians')\n",
    "plt.show()"
   ]
  },
  {
   "cell_type": "code",
   "execution_count": 28,
   "metadata": {
    "dc": {
     "key": "59"
    },
    "tags": [
     "sample_code"
    ]
   },
   "outputs": [],
   "source": [
    "# Sort the non-band musicians by number of songs per appearance.\n",
    "non_band = musicians[~musicians['musician'].str.contains('Band')]\n",
    "non_band = non_band.sort_values('num_songs', ascending = False)"
   ]
  },
  {
   "cell_type": "code",
   "execution_count": 29,
   "metadata": {
    "dc": {
     "key": "59"
    },
    "tags": [
     "sample_code"
    ]
   },
   "outputs": [
    {
     "data": {
      "text/html": [
       "<div>\n",
       "<style scoped>\n",
       "    .dataframe tbody tr th:only-of-type {\n",
       "        vertical-align: middle;\n",
       "    }\n",
       "\n",
       "    .dataframe tbody tr th {\n",
       "        vertical-align: top;\n",
       "    }\n",
       "\n",
       "    .dataframe thead th {\n",
       "        text-align: right;\n",
       "    }\n",
       "</style>\n",
       "<table border=\"1\" class=\"dataframe\">\n",
       "  <thead>\n",
       "    <tr style=\"text-align: right;\">\n",
       "      <th></th>\n",
       "      <th>super_bowl</th>\n",
       "      <th>musician</th>\n",
       "      <th>num_songs</th>\n",
       "    </tr>\n",
       "  </thead>\n",
       "  <tbody>\n",
       "    <tr>\n",
       "      <th>0</th>\n",
       "      <td>52</td>\n",
       "      <td>Justin Timberlake</td>\n",
       "      <td>11.0</td>\n",
       "    </tr>\n",
       "    <tr>\n",
       "      <th>70</th>\n",
       "      <td>30</td>\n",
       "      <td>Diana Ross</td>\n",
       "      <td>10.0</td>\n",
       "    </tr>\n",
       "    <tr>\n",
       "      <th>10</th>\n",
       "      <td>49</td>\n",
       "      <td>Katy Perry</td>\n",
       "      <td>8.0</td>\n",
       "    </tr>\n",
       "    <tr>\n",
       "      <th>95</th>\n",
       "      <td>21</td>\n",
       "      <td>Spirit of Troy</td>\n",
       "      <td>8.0</td>\n",
       "    </tr>\n",
       "    <tr>\n",
       "      <th>90</th>\n",
       "      <td>23</td>\n",
       "      <td>Elvis Presto</td>\n",
       "      <td>7.0</td>\n",
       "    </tr>\n",
       "    <tr>\n",
       "      <th>2</th>\n",
       "      <td>51</td>\n",
       "      <td>Lady Gaga</td>\n",
       "      <td>7.0</td>\n",
       "    </tr>\n",
       "    <tr>\n",
       "      <th>33</th>\n",
       "      <td>41</td>\n",
       "      <td>Prince</td>\n",
       "      <td>7.0</td>\n",
       "    </tr>\n",
       "    <tr>\n",
       "      <th>16</th>\n",
       "      <td>47</td>\n",
       "      <td>Beyoncé</td>\n",
       "      <td>7.0</td>\n",
       "    </tr>\n",
       "    <tr>\n",
       "      <th>99</th>\n",
       "      <td>18</td>\n",
       "      <td>The Florida State University Marching Chiefs</td>\n",
       "      <td>7.0</td>\n",
       "    </tr>\n",
       "    <tr>\n",
       "      <th>14</th>\n",
       "      <td>48</td>\n",
       "      <td>Bruno Mars</td>\n",
       "      <td>6.0</td>\n",
       "    </tr>\n",
       "    <tr>\n",
       "      <th>3</th>\n",
       "      <td>50</td>\n",
       "      <td>Coldplay</td>\n",
       "      <td>6.0</td>\n",
       "    </tr>\n",
       "    <tr>\n",
       "      <th>25</th>\n",
       "      <td>45</td>\n",
       "      <td>The Black Eyed Peas</td>\n",
       "      <td>6.0</td>\n",
       "    </tr>\n",
       "    <tr>\n",
       "      <th>30</th>\n",
       "      <td>44</td>\n",
       "      <td>The Who</td>\n",
       "      <td>5.0</td>\n",
       "    </tr>\n",
       "    <tr>\n",
       "      <th>20</th>\n",
       "      <td>46</td>\n",
       "      <td>Madonna</td>\n",
       "      <td>5.0</td>\n",
       "    </tr>\n",
       "    <tr>\n",
       "      <th>80</th>\n",
       "      <td>27</td>\n",
       "      <td>Michael Jackson</td>\n",
       "      <td>5.0</td>\n",
       "    </tr>\n",
       "  </tbody>\n",
       "</table>\n",
       "</div>"
      ],
      "text/plain": [
       "    super_bowl                                      musician  num_songs\n",
       "0           52                             Justin Timberlake       11.0\n",
       "70          30                                    Diana Ross       10.0\n",
       "10          49                                    Katy Perry        8.0\n",
       "95          21                                Spirit of Troy        8.0\n",
       "90          23                                  Elvis Presto        7.0\n",
       "2           51                                     Lady Gaga        7.0\n",
       "33          41                                        Prince        7.0\n",
       "16          47                                       Beyoncé        7.0\n",
       "99          18  The Florida State University Marching Chiefs        7.0\n",
       "14          48                                    Bruno Mars        6.0\n",
       "3           50                                      Coldplay        6.0\n",
       "25          45                           The Black Eyed Peas        6.0\n",
       "30          44                                       The Who        5.0\n",
       "20          46                                       Madonna        5.0\n",
       "80          27                               Michael Jackson        5.0"
      ]
     },
     "execution_count": 29,
     "metadata": {},
     "output_type": "execute_result"
    }
   ],
   "source": [
    "# ...and display the top 15\n",
    "non_band.head(15)"
   ]
  },
  {
   "cell_type": "markdown",
   "metadata": {
    "dc": {
     "key": "66"
    },
    "deletable": false,
    "editable": false,
    "run_control": {
     "frozen": true
    },
    "tags": [
     "context"
    ]
   },
   "source": [
    "## 10. Conclusion\n",
    "<p>So most non-band musicians do 1-3 songs per halftime show. It's important to note that the duration of the halftime show is fixed (roughly 12 minutes) so songs per performance is more a measure of how many hit songs you have. JT went off in 2018, wow. 11 songs! Diana Ross comes in second with 10 in her medley in 1996.</p>\n",
    "<p>In this notebook, we loaded, cleaned, then explored Super Bowl game, television, and halftime show data. We visualized the distributions of combined points, point differences, and halftime show performances using histograms. We used line plots to see how ad cost increases lagged behind viewership increases. And we discovered that blowouts do appear to lead to a drop in viewers.</p>\n",
    "<p>This year's Big Game will be here before you know it. Who do you think will win Super Bowl LIII?</p>\n",
    "<p><em>UPDATE: <a href=\"https://en.wikipedia.org/wiki/Super_Bowl_LIII\">Spoiler alert</a>.</em></p>"
   ]
  }
 ],
 "metadata": {
  "kernelspec": {
   "display_name": "Python 3",
   "language": "python",
   "name": "python3"
  },
  "language_info": {
   "codemirror_mode": {
    "name": "ipython",
    "version": 3
   },
   "file_extension": ".py",
   "mimetype": "text/x-python",
   "name": "python",
   "nbconvert_exporter": "python",
   "pygments_lexer": "ipython3",
   "version": "3.8.5"
  }
 },
 "nbformat": 4,
 "nbformat_minor": 2
}
